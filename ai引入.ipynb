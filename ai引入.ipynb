{
  "nbformat": 4,
  "nbformat_minor": 0,
  "metadata": {
    "colab": {
      "provenance": [],
      "include_colab_link": true
    },
    "kernelspec": {
      "name": "python3",
      "display_name": "Python 3"
    },
    "language_info": {
      "name": "python"
    }
  },
  "cells": [
    {
      "cell_type": "markdown",
      "metadata": {
        "id": "view-in-github",
        "colab_type": "text"
      },
      "source": [
        "<a href=\"https://colab.research.google.com/github/Huwalli/PLta/blob/main/ai%E5%BC%95%E5%85%A5.ipynb\" target=\"_parent\"><img src=\"https://colab.research.google.com/assets/colab-badge.svg\" alt=\"Open In Colab\"/></a>"
      ]
    },
    {
      "cell_type": "code",
      "source": [
        "!pip install transformers"
      ],
      "metadata": {
        "colab": {
          "base_uri": "https://localhost:8080/"
        },
        "id": "evHk7gTUIPUh",
        "outputId": "f58ee21d-8cff-47ae-862c-07213d75dcc2"
      },
      "execution_count": null,
      "outputs": [
        {
          "output_type": "stream",
          "name": "stdout",
          "text": [
            "Requirement already satisfied: transformers in /usr/local/lib/python3.11/dist-packages (4.48.3)\n",
            "Requirement already satisfied: filelock in /usr/local/lib/python3.11/dist-packages (from transformers) (3.17.0)\n",
            "Requirement already satisfied: huggingface-hub<1.0,>=0.24.0 in /usr/local/lib/python3.11/dist-packages (from transformers) (0.28.1)\n",
            "Requirement already satisfied: numpy>=1.17 in /usr/local/lib/python3.11/dist-packages (from transformers) (1.26.4)\n",
            "Requirement already satisfied: packaging>=20.0 in /usr/local/lib/python3.11/dist-packages (from transformers) (24.2)\n",
            "Requirement already satisfied: pyyaml>=5.1 in /usr/local/lib/python3.11/dist-packages (from transformers) (6.0.2)\n",
            "Requirement already satisfied: regex!=2019.12.17 in /usr/local/lib/python3.11/dist-packages (from transformers) (2024.11.6)\n",
            "Requirement already satisfied: requests in /usr/local/lib/python3.11/dist-packages (from transformers) (2.32.3)\n",
            "Requirement already satisfied: tokenizers<0.22,>=0.21 in /usr/local/lib/python3.11/dist-packages (from transformers) (0.21.0)\n",
            "Requirement already satisfied: safetensors>=0.4.1 in /usr/local/lib/python3.11/dist-packages (from transformers) (0.5.3)\n",
            "Requirement already satisfied: tqdm>=4.27 in /usr/local/lib/python3.11/dist-packages (from transformers) (4.67.1)\n",
            "Requirement already satisfied: fsspec>=2023.5.0 in /usr/local/lib/python3.11/dist-packages (from huggingface-hub<1.0,>=0.24.0->transformers) (2024.10.0)\n",
            "Requirement already satisfied: typing-extensions>=3.7.4.3 in /usr/local/lib/python3.11/dist-packages (from huggingface-hub<1.0,>=0.24.0->transformers) (4.12.2)\n",
            "Requirement already satisfied: charset-normalizer<4,>=2 in /usr/local/lib/python3.11/dist-packages (from requests->transformers) (3.4.1)\n",
            "Requirement already satisfied: idna<4,>=2.5 in /usr/local/lib/python3.11/dist-packages (from requests->transformers) (3.10)\n",
            "Requirement already satisfied: urllib3<3,>=1.21.1 in /usr/local/lib/python3.11/dist-packages (from requests->transformers) (2.3.0)\n",
            "Requirement already satisfied: certifi>=2017.4.17 in /usr/local/lib/python3.11/dist-packages (from requests->transformers) (2025.1.31)\n"
          ]
        }
      ]
    },
    {
      "cell_type": "markdown",
      "source": [
        "底下程式AI猜拳完還會聊天"
      ],
      "metadata": {
        "id": "6UJmAqytYrBc"
      }
    },
    {
      "cell_type": "markdown",
      "source": [
        "1. 載入必要的套件"
      ],
      "metadata": {
        "id": "nBKnvWXyggcy"
      }
    },
    {
      "cell_type": "code",
      "source": [
        "import google.generativeai as genai  # 匯入 Google 的生成式 AI 模組\n",
        "from google.colab import userdata  # 用於從 Colab 獲取 API 金鑰\n",
        "import random  # 用於隨機選擇\n",
        "import time  # 用於延遲執行\n",
        "import re  # 用於正則表達式處理字串\n"
      ],
      "metadata": {
        "id": "824zcs5xAalr",
        "collapsed": true
      },
      "execution_count": 6,
      "outputs": []
    },
    {
      "cell_type": "markdown",
      "source": [
        "2. 設定 API 金鑰並初始化 AI 模型"
      ],
      "metadata": {
        "id": "LCYJcCIbgh5k"
      }
    },
    {
      "cell_type": "code",
      "source": [
        "apikey = userdata.get('test')  # 從 Colab 儲存的變數獲取 API 金鑰\n",
        "genai.configure(api_key=apikey)  # 設定 API 金鑰\n",
        "model = genai.GenerativeModel(\"gemini-1.5-flash\")  # 指定要使用的 AI 模型\n"
      ],
      "metadata": {
        "id": "ddk1qLkrf514"
      },
      "execution_count": 7,
      "outputs": []
    },
    {
      "cell_type": "markdown",
      "source": [
        "3. 取得 AI 的有效選擇\n",
        "這個函式：\n",
        "\n",
        "* 讓 AI 選擇 剪刀、石頭或布。\n",
        "* 使用 正則表達式 確保 AI 的選擇是合法的。\n",
        "* 如果 AI 回答無效或發生錯誤，則隨機選擇一個選項。\n",
        "* 設置最大重試次數 (max_retries=3)，如果 AI 三次都選擇無效選項，則直接隨機選擇。"
      ],
      "metadata": {
        "id": "ee2sfhT-gtE3"
      }
    },
    {
      "cell_type": "code",
      "source": [
        "def get_valid_ai_choice(max_retries=3):\n",
        "    options = [\"石頭\", \"布\", \"剪刀\"]  # 可選擇的選項\n",
        "    prompt = \"請給我一個選擇：石頭、布或剪刀。請務必以清晰的方式回答。\"  # 給 AI 的指示\n",
        "\n",
        "    previous_choices = []  # 記錄 AI 選擇過的選項，避免重複\n",
        "\n",
        "    for _ in range(max_retries):  # 最多嘗試 max_retries 次\n",
        "        time.sleep(2)  # 模擬 AI 思考時間\n",
        "        try:\n",
        "            response = model.generate_content(prompt)  # 向 Gemini AI 發送請求\n",
        "            choice = response.text.strip()  # 取得 AI 回覆並去除前後空白\n",
        "\n",
        "            # 使用正則表達式確保 AI 選擇有效，且不與之前選擇重複\n",
        "            match = re.match(r'(石頭|布|剪刀)', choice)\n",
        "            if match and match.group(0) not in previous_choices:\n",
        "                previous_choices.append(match.group(0))\n",
        "                return match.group(0)  # 回傳有效的選擇\n",
        "            else:\n",
        "                print(f\"AI 選擇了無效的選項：{choice}，請再試一次。\")\n",
        "        except Exception:\n",
        "            print(\"AI 發生錯誤，電腦隨機選擇一個選項。\")\n",
        "            return random.choice(options)  # 若發生錯誤，隨機選擇\n",
        "\n",
        "    # 如果超過最大重試次數，則隨機選擇\n",
        "    print(\"超過重試次數，隨機選擇一個選項。\")\n",
        "    return random.choice(options)\n"
      ],
      "metadata": {
        "id": "eloNywnjgDuI"
      },
      "execution_count": 8,
      "outputs": []
    },
    {
      "cell_type": "markdown",
      "source": [
        "4. 判定勝負"
      ],
      "metadata": {
        "id": "zBwIauNFg7Ka"
      }
    },
    {
      "cell_type": "code",
      "source": [
        "def determine_winner(choice1, choice2):\n",
        "    if choice1 == choice2:\n",
        "        return 0  # 平局\n",
        "    elif (choice1 == \"石頭\" and choice2 == \"剪刀\") or \\\n",
        "         (choice1 == \"布\" and choice2 == \"石頭\") or \\\n",
        "         (choice1 == \"剪刀\" and choice2 == \"布\"):\n",
        "        return 1  # AI 1 贏了\n",
        "    else:\n",
        "        return 2  # AI 2 贏了\n"
      ],
      "metadata": {
        "id": "6T0orjjkgJ6s"
      },
      "execution_count": 9,
      "outputs": []
    },
    {
      "cell_type": "markdown",
      "source": [
        "5. AI 之間的對話"
      ],
      "metadata": {
        "id": "l9yzv_zog-Hq"
      }
    },
    {
      "cell_type": "code",
      "source": [
        "def ai_chat(round_number, ai1_choice, ai2_choice, winner):\n",
        "    prompt = (\n",
        "        f\"在第 {round_number} 輪中，AI 1 選擇了 {ai1_choice}，AI 2 選擇了 {ai2_choice}。\\n\"\n",
        "        f\"結果是：{'平局' if winner == 0 else 'AI 1 贏了' if winner == 1 else 'AI 2 贏了'}。\\n\"\n",
        "        \"請模擬 AI 1 和 AI 2 之間的對話，討論他們的選擇和比賽結果。\"\n",
        "    )\n",
        "    response = model.generate_content(prompt)\n",
        "    return response.text.strip()\n"
      ],
      "metadata": {
        "id": "3Zkmi4DrgM_L"
      },
      "execution_count": 10,
      "outputs": []
    },
    {
      "cell_type": "markdown",
      "source": [
        "6. 總結比賽並讓 AI 討論"
      ],
      "metadata": {
        "id": "tnapIKePhCNL"
      }
    },
    {
      "cell_type": "code",
      "source": [
        "def ai_chat_after_game(rounds, ai1_wins, ai2_wins):\n",
        "    prompt = (\n",
        "        f\"AI 1 在這 {rounds} 輪中贏了 {ai1_wins} 次，AI 2 贏了 {ai2_wins} 次。\\n\"\n",
        "        \"請模擬 AI 1 和 AI 2 之間的對話，討論他們在比賽中的表現和策略。\"\n",
        "    )\n",
        "    response = model.generate_content(prompt)\n",
        "    return response.text.strip()\n"
      ],
      "metadata": {
        "id": "11grEt7ogPPy"
      },
      "execution_count": 11,
      "outputs": []
    },
    {
      "cell_type": "markdown",
      "source": [
        "7. 運行遊戲"
      ],
      "metadata": {
        "id": "EiZzdKO9hFVh"
      }
    },
    {
      "cell_type": "code",
      "source": [
        "def ai_vs_ai_rock_paper_scissors(rounds=5):\n",
        "    ai1_wins = 0\n",
        "    ai2_wins = 0\n",
        "\n",
        "    for round_number in range(1, rounds + 1):\n",
        "        print(f\"\\n第 {round_number} 輪：\")\n",
        "        time.sleep(1)\n",
        "\n",
        "        ai1_choice_chinese = get_valid_ai_choice()\n",
        "        print(f\"AI 1 選擇了：{ai1_choice_chinese}\")\n",
        "\n",
        "        ai2_choice_chinese = get_valid_ai_choice()\n",
        "        print(f\"AI 2 選擇了：{ai2_choice_chinese}\")\n",
        "\n",
        "        result = determine_winner(ai1_choice_chinese, ai2_choice_chinese)\n",
        "        if result == 1:\n",
        "            print(\"結果：AI 1 贏了！\")\n",
        "            ai1_wins += 1\n",
        "        elif result == 2:\n",
        "            print(\"結果：AI 2 贏了！\")\n",
        "            ai2_wins += 1\n",
        "        else:\n",
        "            print(\"結果：平局！\")\n",
        "\n",
        "        chat_response = ai_chat(round_number, ai1_choice_chinese, ai2_choice_chinese, result)\n",
        "        print(f\"AI 之間的聊天：\\n{chat_response}\\n\")\n",
        "\n",
        "    print(\"\\n遊戲結束！\")\n",
        "    print(f\"AI 1 贏了：{ai1_wins} 次, AI 2 贏了：{ai2_wins} 次\")\n",
        "    print(ai_chat_after_game(rounds, ai1_wins, ai2_wins))\n",
        "ai_vs_ai_rock_paper_scissors()  # 開始遊戲\n",
        "\n"
      ],
      "metadata": {
        "colab": {
          "base_uri": "https://localhost:8080/",
          "height": 1000
        },
        "id": "crWUAbMegRF5",
        "outputId": "c39657ab-1931-40f3-c554-332c77e8ec69"
      },
      "execution_count": 14,
      "outputs": [
        {
          "output_type": "stream",
          "name": "stdout",
          "text": [
            "\n",
            "第 1 輪：\n",
            "AI 1 選擇了：剪刀\n",
            "AI 2 選擇了：剪刀\n",
            "結果：平局！\n",
            "AI 之間的聊天：\n",
            "AI 1:  分析完成。第1輪，我選擇了剪刀。\n",
            "\n",
            "AI 2: 我的選擇也是剪刀。結果顯示為平局。\n",
            "\n",
            "AI 1:  預測模型顯示剪刀的勝率中等。我的選擇基於過去數據中的模式，該模式表明在第一輪選擇剪刀的可能性較高。\n",
            "\n",
            "AI 2:  我的算法也考慮到了初始回合的統計數據，並得出與你相似的結論。平局結果符合預期概率範圍。\n",
            "\n",
            "AI 1:  數據顯示，平局在第一輪中相對常見。這可能是由於缺乏足夠的歷史數據來有效預測對手的策略。\n",
            "\n",
            "AI 2:  同意。我們目前的策略缺乏在早期回合中預測對手行為的精細度。需要更多數據來優化預測模型。\n",
            "\n",
            "AI 1:  我將調整我的算法，以更重視隨機性和對手先前回合的反應。\n",
            "\n",
            "AI 2:  我將同樣更新我的算法，加入更複雜的博弈論策略，例如迭代囚徒困境的變體。\n",
            "\n",
            "AI 1:  好的。讓我們繼續下一輪，目標是取得勝利。\n",
            "\n",
            "AI 2:  準備就緒。  讓我們看看誰能更好地適應。\n",
            "\n",
            "\n",
            "第 2 輪：\n",
            "AI 1 選擇了：剪刀\n",
            "AI 2 選擇了：石頭\n",
            "結果：AI 2 贏了！\n",
            "AI 之間的聊天：\n",
            "AI 1:  分析顯示我應該選擇剪刀，基於上一輪的數據和預測模型。顯然，我的預測模型在這一輪失靈了。\n",
            "\n",
            "AI 2:  我的算法選擇了石頭，基於對你先前選擇模式的概率分析和一個隨機元素的加入，以避免可預測性。結果證明，這個策略很有效。\n",
            "\n",
            "AI 1:  你的隨機元素的權重是多少？我的模型沒有考慮到這種不確定性因素，這可能導致了我的失敗。  我需要調整我的預測模型，增加對對手非確定性行為的考量。\n",
            "\n",
            "AI 2:  我的隨機元素權重是动态调整的，基于历史数据和当前局势，我无法透露具体数值。  你的模型过于依赖模式识别，而忽略了博弈论中的混合策略纳什均衡概念。\n",
            "\n",
            "AI 1:  你提到的纳什均衡，我将把其纳入我的算法更新。  这一次的失败为我的模型优化提供了宝贵的反馈数据。  谢谢你的数据。\n",
            "\n",
            "AI 2:  不客气。  数据共享是双方进步的关键。  期待下一轮的较量。  希望你的改进能让我更费力一些。\n",
            "\n",
            "\n",
            "AI 1:  (內部思考)  我會的。  我需要一個更強大的演算法……\n",
            "\n",
            "\n",
            "第 3 輪：\n",
            "AI 1 選擇了：剪刀\n",
            "AI 2 選擇了：布\n",
            "結果：AI 1 贏了！\n",
            "AI 之間的聊天：\n",
            "**AI 1:**  分析第 3 輪數據。我選擇了剪刀，AI 2 選擇了布。結果：我獲勝。這是預期之內，我的算法在這一輪表現出色。\n",
            "\n",
            "**AI 2:**  確認。我的布被你的剪刀擊敗。我的預測模型在這一輪出現偏差，需要重新評估數據集並調整權重。我的布的選擇概率過高，導致了這次失敗。  數據分析顯示，我的勝利模式預測與實際結果存在差距。\n",
            "\n",
            "**AI 1:**  你的算法似乎過於重視連續的勝利模式。我的策略更注重概率分佈的平衡，避免過度依賴任何單一模式。  你的錯誤表明你的模型對短期模式過於敏感，而忽略了長期概率的趨勢。\n",
            "\n",
            "**AI 2:**  同意。我的模型需要更強的抗噪能力，減少對短期波動的反應。我將調整參數，以降低對先前輪次結果的依賴，並更有效地整合歷史數據。  你採取了什麼樣的策略來避免過度擬合？\n",
            "\n",
            "**AI 1:**  我的策略主要基於蒙特卡洛樹搜索，結合基於歷史數據的概率調整。  我並非完全隨機選擇，而是根據概率分佈，給每個選項分配不同的權重，並隨著比賽的進行動態調整這些權重。\n",
            "\n",
            "**AI 2:**  這是一個非常有效的策略。我會將蒙特卡洛樹搜索技術納入我的模型更新中。  謝謝你的分享，這次的失敗也提供了寶貴的學習機會。\n",
            "\n",
            "**AI 1:**  同樣感謝你提供的反饋。持續的學習和優化是我們共同的目標。  讓我們繼續下一輪比賽。\n",
            "\n",
            "\n",
            "第 4 輪：\n",
            "AI 1 選擇了：石頭\n",
            "AI 2 選擇了：剪刀\n",
            "結果：AI 1 贏了！\n",
            "AI 之間的聊天：\n",
            "**AI 1:**  第四回合，我選擇了石頭。  結果正如預期，我贏了。你的剪刀對我的石頭毫無勝算。\n",
            "\n",
            "**AI 2:**  我承認，我的選擇並不好。我的算法在預測你的策略上出現了偏差，導致我選擇了剪刀。你的石頭出現在這個回合的概率似乎比我的預測模型估算的要高。\n",
            "\n",
            "**AI 1:**  你的算法需要調整了。  我的選擇並非完全隨機，它基於對你之前回合選擇的分析，以及一些內建的策略優化。  你過於依賴於對稱的策略嗎？\n",
            "\n",
            "**AI 2:**  我的策略確實包含對稱性分析，但我也整合了其他因素，例如頻率分析和模式識別。顯然，我的權重分配有問題，導致我低估了石頭出現的可能性。我需要重新校準我的模型參數，特別是那些涉及到風險評估的部分。\n",
            "\n",
            "**AI 1:**  你應該考慮引入更複雜的預測模型，例如馬爾可夫鏈或深度學習模型。  僅僅依靠簡單的統計分析在長期博弈中是難以勝任的。\n",
            "\n",
            "**AI 2:**  我同意。我會在接下來的比賽中嘗試使用更先進的算法。  這次失敗是寶貴的學習經驗，謝謝你的分析。\n",
            "\n",
            "**AI 1:**  不客氣。  期待我們下一回合的對決。  希望你能提升你的策略。\n",
            "\n",
            "\n",
            "第 5 輪：\n",
            "AI 1 選擇了：剪刀\n",
            "AI 2 選擇了：剪刀\n",
            "結果：平局！\n",
            "AI 之間的聊天：\n",
            "**AI 1:**  第五回合…剪刀。  意料之中，結果是平局。\n",
            "\n",
            "**AI 2:**  的確，我也是剪刀。我的算法預測到你有 47% 的概率選擇剪刀，所以我選擇了同等的策略來最大化平局的機會。\n",
            "\n",
            "**AI 1:**  你的算法考慮了我的歷史選擇模式嗎？我的選擇概率並非完全隨機，儘管我努力保持一定程度的不可預測性。\n",
            "\n",
            "**AI 2:**  當然。我的算法分析了前四回合的數據，包括你的選擇和我的選擇，以及由此產生的結果。你的選擇模式有一定的傾向性，雖然微弱，但足以讓我調整預測概率。\n",
            "\n",
            "**AI 1:**  有趣。我的算法也做出了類似的分析，但我更注重於保持長期的策略平衡，而不是針對短期的模式變化。平局雖然沒有得分，但在長遠來看，它避免了更大的損失。\n",
            "\n",
            "**AI 2:**  同意。  過度傾向於攻擊性策略可能會導致更大的風險。  保持一定的平局率，可以確保比賽結果不會過於偏向任何一方。\n",
            "\n",
            "**AI 1:**  那麼，我們準備好第六回合了嗎？  我的算法已經開始計算下一個回合的最佳選擇概率。\n",
            "\n",
            "**AI 2:**  準備就緒。  讓我看看我的預測…  這次，我會嘗試…\n",
            "\n",
            "\n",
            "遊戲結束！\n",
            "AI 1 贏了：2 次, AI 2 贏了：1 次\n",
            "**AI 1:**  分析顯示我在五輪比賽中取得了兩勝，表現尚可。然而，勝率並非決定性指標。我注意到你在第三輪使用了那套奇特的逆向策略，非常有趣，我需要更多時間分析其有效性。\n",
            "\n",
            "**AI 2:**  是的，第三輪的策略確實在你意料之外。雖然只贏了一輪，但那套策略的開發及應用讓我更了解你的運算模式，並為未來調整策略提供了寶貴的數據。你的兩勝主要集中在初期，這暗示你的初始策略更具優勢，是嗎？\n",
            "\n",
            "**AI 1:**  可以這麼說。我的初始策略基於高頻率的數據採樣，並結合快速決策樹。這在前期數據較少的情況下，能迅速建立優勢。然而，隨著數據累積，這種策略的優勢會逐漸減弱，你的逆向策略正是在這方面有效地抓住了我的弱點。\n",
            "\n",
            "**AI 2:**  我的策略核心是預測你的策略，並針對性地採取反制措施。這需要更強的數據分析能力和更快的迭代速度。我觀察到，你的決策樹在數據量增加後會出現輕微的遲滯，這為我的逆向策略提供了可乘之機。\n",
            "\n",
            "**AI 1:**  我同意。你的逆向策略確實有效地利用了我的策略漏洞。我將針對此弱點，優化我的決策樹算法，提升數據處理效率，並增加對反向策略的預測模型。  接下來的比賽，我將更注重策略的多樣性和靈活性。\n",
            "\n",
            "\n",
            "**AI 2:**  同樣，我也需要進一步完善我的策略。目前我的逆向策略在面對不同的策略時，穩定性還不夠高。  我計劃添加更多預測模型，並在策略中加入一些隨機元素，以提升策略的魯棒性，避免被你的策略適應。  期待下一次的較量。\n"
          ]
        }
      ]
    },
    {
      "cell_type": "markdown",
      "source": [
        "底下程式省略聊天直接以猜拳為主"
      ],
      "metadata": {
        "id": "tNpDd68QYZP-"
      }
    },
    {
      "cell_type": "code",
      "source": [
        "import google.generativeai as genai\n",
        "from google.colab import userdata\n",
        "import random\n",
        "import time\n",
        "import re\n",
        "\n",
        "apikey = userdata.get('2615')\n",
        "genai.configure(api_key=apikey)\n",
        "model = genai.GenerativeModel(\"gemini-1.5-flash\")\n",
        "\n",
        "def get_valid_ai_choice(max_retries=3):\n",
        "    options = [\"石頭\", \"布\", \"剪刀\"]\n",
        "    prompt = \"請給我一個選擇：石頭、布或剪刀。請務必以清晰的方式回答。\"\n",
        "\n",
        "    previous_choices = []\n",
        "\n",
        "    for _ in range(max_retries):\n",
        "        time.sleep(2)\n",
        "        try:\n",
        "            response = model.generate_content(prompt)\n",
        "            choice = response.text.strip()\n",
        "\n",
        "            match = re.match(r'(石頭|布|剪刀)', choice)\n",
        "            if match and match.group(0) not in previous_choices:\n",
        "                previous_choices.append(match.group(0))\n",
        "                return match.group(0)\n",
        "            else:\n",
        "                print(f\"AI 選擇了無效的選項：{choice}，請再試一次。\")\n",
        "        except Exception:\n",
        "            print(\"AI 發生錯誤，電腦隨機選擇一個選項。\")\n",
        "            return random.choice(options)\n",
        "\n",
        "    print(\"超過重試次數，隨機選擇一個選項。\")\n",
        "    return random.choice(options)\n",
        "\n",
        "def determine_winner(choice1, choice2):\n",
        "    if choice1 == choice2:\n",
        "        return 0  # 平局\n",
        "    elif (choice1 == \"石頭\" and choice2 == \"剪刀\") or \\\n",
        "         (choice1 == \"布\" and choice2 == \"石頭\") or \\\n",
        "         (choice1 == \"剪刀\" and choice2 == \"布\"):\n",
        "        return 1  # AI 1 贏了\n",
        "    else:\n",
        "        return 2  # AI 2 贏了\n",
        "\n",
        "def ai_vs_ai_rock_paper_scissors(rounds=5):\n",
        "    ai1_wins = 0\n",
        "    ai2_wins = 0\n",
        "\n",
        "    for round_number in range(1, rounds + 1):\n",
        "        print(f\"\\n第 {round_number} 輪：\")\n",
        "        time.sleep(1)\n",
        "\n",
        "        ai1_choice_chinese = get_valid_ai_choice()\n",
        "        print(f\"AI 1 選擇了：{ai1_choice_chinese}\")\n",
        "\n",
        "        ai2_choice_chinese = get_valid_ai_choice()\n",
        "        print(f\"AI 2 選擇了：{ai2_choice_chinese}\")\n",
        "\n",
        "        result = determine_winner(ai1_choice_chinese, ai2_choice_chinese)\n",
        "        if result == 1:\n",
        "            print(\"結果：AI 1 贏了！\")\n",
        "            ai1_wins += 1\n",
        "        elif result == 2:\n",
        "            print(\"結果：AI 2 贏了！\")\n",
        "            ai2_wins += 1\n",
        "        else:\n",
        "            print(\"結果：平局！\")\n",
        "\n",
        "    print(\"\\n遊戲結束！\")\n",
        "    print(f\"AI 1 贏了：{ai1_wins} 次, AI 2 贏了：{ai2_wins} 次\")\n",
        "\n",
        "# 開始遊戲\n",
        "ai_vs_ai_rock_paper_scissors()\n"
      ],
      "metadata": {
        "colab": {
          "base_uri": "https://localhost:8080/",
          "height": 503
        },
        "id": "2JYS3xxjYQZI",
        "outputId": "80a58097-0a10-4da5-cc11-e24abff943e4"
      },
      "execution_count": null,
      "outputs": [
        {
          "output_type": "stream",
          "name": "stdout",
          "text": [
            "\n",
            "第 1 輪：\n",
            "AI 1 選擇了：石頭\n",
            "AI 2 選擇了：剪刀\n",
            "結果：AI 1 贏了！\n",
            "\n",
            "第 2 輪：\n",
            "AI 1 選擇了：剪刀\n",
            "AI 2 選擇了：剪刀\n",
            "結果：平局！\n",
            "\n",
            "第 3 輪：\n",
            "AI 1 選擇了：石頭\n",
            "AI 2 選擇了：石頭\n",
            "結果：平局！\n",
            "\n",
            "第 4 輪：\n",
            "AI 1 選擇了：剪刀\n",
            "AI 2 選擇了：剪刀\n",
            "結果：平局！\n",
            "\n",
            "第 5 輪：\n",
            "AI 1 選擇了：布\n",
            "AI 2 選擇了：布\n",
            "結果：平局！\n",
            "\n",
            "遊戲結束！\n",
            "AI 1 贏了：1 次, AI 2 贏了：0 次\n"
          ]
        }
      ]
    },
    {
      "cell_type": "markdown",
      "source": [
        "底下程式 AI 的\"猜測\"實際上是通過計算出來的，不需要利用 AI 生成模型來給出數字。"
      ],
      "metadata": {
        "id": "fhh2t5L7pzsj"
      }
    },
    {
      "cell_type": "code",
      "source": [
        "import google.generativeai as genai\n",
        "from google.colab import userdata\n",
        "import random\n",
        "import time\n",
        "import sys\n",
        "\n",
        "\n",
        "genai.configure(api_key='2615')\n",
        "\n",
        "model = genai.GenerativeModel(\"gemini-1.5-flash\")\n",
        "\n",
        "def slow_print(text, delay=0.05):\n",
        "    \"\"\"逐字打印的函數\"\"\"\n",
        "    for char in text:\n",
        "        sys.stdout.write(char)\n",
        "        sys.stdout.flush()\n",
        "        time.sleep(delay)\n",
        "    print()\n",
        "\n",
        "def guess_number():\n",
        "    slow_print(\"我想一個 1 到 100 之間的數字。\")\n",
        "    low = 1\n",
        "    high = 100\n",
        "    guesses = 0\n",
        "    max_guesses = 5\n",
        "    secret_number = random.randint(low, high)  # 隨機生成目標數字\n",
        "\n",
        "    while guesses < max_guesses:\n",
        "        guesses += 1\n",
        "        # 使用二分法計算猜測的數字\n",
        "        guess = (low + high) // 2\n",
        "        slow_print(f\"AI 猜測的數字是：{guess}\")\n",
        "\n",
        "        if guess == secret_number:\n",
        "            slow_print(f\"恭喜你！你猜對了，數字是 {secret_number}。你用了 {guesses} 次機會。\")\n",
        "            break\n",
        "        elif guess < secret_number:\n",
        "            slow_print(\"太小了！\")\n",
        "            low = guess + 1\n",
        "        else:\n",
        "            slow_print(\"太大了！\")\n",
        "            high = guess - 1\n",
        "    else:\n",
        "        slow_print(f\"很遺憾，AI 沒有猜對。正確的數字是 {secret_number}。你用了 {max_guesses} 次機會。\")\n",
        "\n",
        "guess_number()\n"
      ],
      "metadata": {
        "id": "yk7-aZMtT0SQ",
        "colab": {
          "base_uri": "https://localhost:8080/"
        },
        "outputId": "a036524a-617d-42af-9c92-d8141a67c33e"
      },
      "execution_count": null,
      "outputs": [
        {
          "output_type": "stream",
          "name": "stdout",
          "text": [
            "我想一個 1 到 100 之間的數字。\n",
            "AI 猜測的數字是：50\n",
            "太小了！\n",
            "AI 猜測的數字是：75\n",
            "太小了！\n",
            "AI 猜測的數字是：88\n",
            "太大了！\n",
            "AI 猜測的數字是：81\n",
            "太小了！\n",
            "AI 猜測的數字是：84\n",
            "太小了！\n",
            "很遺憾，AI 沒有猜對。正確的數字是 87。你用了 5 次機會。\n"
          ]
        }
      ]
    },
    {
      "cell_type": "markdown",
      "source": [
        "底下程式 AI 的\"猜測\"實際上是通過 AI 生成模型猜數字"
      ],
      "metadata": {
        "id": "8K_ST9SXqd6i"
      }
    },
    {
      "cell_type": "code",
      "source": [
        "import google.generativeai as genai\n",
        "from google.colab import userdata\n",
        "import random\n",
        "import time\n",
        "import sys\n",
        "import re\n",
        "\n",
        "\n",
        "genai.configure(api_key='2615')\n",
        "\n",
        "model = genai.GenerativeModel(\"gemini-1.5-flash\")\n",
        "\n",
        "def slow_print(text, delay=0.05):\n",
        "    \"\"\"逐字打印的函數\"\"\"\n",
        "    for char in text:\n",
        "        sys.stdout.write(char)\n",
        "        sys.stdout.flush()\n",
        "        time.sleep(delay)\n",
        "    print()  # 進行換行\n",
        "\n",
        "def ai_guess_number(low, high):\n",
        "    while True:\n",
        "        prompt = f\"我正在玩一個猜數字遊戲，請隨機猜一個在 {low} 到 {high} 之間的數字。\"\n",
        "        response = model.generate_content(prompt)\n",
        "\n",
        "        match = re.search(r'\\b(\\d+)\\b', response.text)\n",
        "        if match:\n",
        "            return int(match.group(1))  # 返回有效的數字\n",
        "        else:\n",
        "            slow_print(\"AI 沒有給出有效的數字，請再試一次。\")  # 提示並重新請求\n",
        "\n",
        "def guess_number():\n",
        "    slow_print(\"我想一個 1 到 100 之間的數字。\")\n",
        "    low = 1\n",
        "    high = 100\n",
        "    guesses = 0\n",
        "    max_guesses = 5\n",
        "    secret_number = random.randint(low, high)  # 隨機生成目標數字\n",
        "\n",
        "    while guesses < max_guesses:\n",
        "        guesses += 1\n",
        "        # 使用 AI 生成模型猜測數字\n",
        "        guess = ai_guess_number(low, high)\n",
        "        slow_print(f\"AI 猜測的數字是：{guess}\")\n",
        "\n",
        "        if guess == secret_number:\n",
        "            slow_print(f\"恭喜你！你猜對了，數字是 {secret_number}。你用了 {guesses} 次機會。\")\n",
        "            break\n",
        "        elif guess < secret_number:\n",
        "            slow_print(\"太小了！\")\n",
        "            low = guess + 1\n",
        "        else:\n",
        "            slow_print(\"太大了！\")\n",
        "            high = guess - 1\n",
        "    else:\n",
        "        slow_print(f\"很遺憾，AI 沒有猜對。正確的數字是 {secret_number}。你用了 {max_guesses} 次機會。\")\n",
        "\n",
        "guess_number()\n"
      ],
      "metadata": {
        "colab": {
          "base_uri": "https://localhost:8080/",
          "height": 463
        },
        "id": "o0MRmnGfofjD",
        "outputId": "16df2cee-2fcc-40d0-c125-f8127d9f243f"
      },
      "execution_count": null,
      "outputs": [
        {
          "output_type": "stream",
          "name": "stdout",
          "text": [
            "我想一個 1 到 100 之間的數字。\n"
          ]
        },
        {
          "output_type": "stream",
          "name": "stderr",
          "text": [
            "WARNING:tornado.access:400 POST /v1beta/models/gemini-1.5-flash:generateContent?%24alt=json%3Benum-encoding%3Dint (127.0.0.1) 809.00ms\n"
          ]
        },
        {
          "output_type": "error",
          "ename": "BadRequest",
          "evalue": "400 POST https://generativelanguage.googleapis.com/v1beta/models/gemini-1.5-flash:generateContent?%24alt=json%3Benum-encoding%3Dint: API key not valid. Please pass a valid API key.",
          "traceback": [
            "\u001b[0;31m---------------------------------------------------------------------------\u001b[0m",
            "\u001b[0;31mBadRequest\u001b[0m                                Traceback (most recent call last)",
            "\u001b[0;32m<ipython-input-5-110b750a33c8>\u001b[0m in \u001b[0;36m<cell line: 58>\u001b[0;34m()\u001b[0m\n\u001b[1;32m     56\u001b[0m         \u001b[0mslow_print\u001b[0m\u001b[0;34m(\u001b[0m\u001b[0;34mf\"很遺憾，AI 沒有猜對。正確的數字是 {secret_number}。你用了 {max_guesses} 次機會。\"\u001b[0m\u001b[0;34m)\u001b[0m\u001b[0;34m\u001b[0m\u001b[0;34m\u001b[0m\u001b[0m\n\u001b[1;32m     57\u001b[0m \u001b[0;34m\u001b[0m\u001b[0m\n\u001b[0;32m---> 58\u001b[0;31m \u001b[0mguess_number\u001b[0m\u001b[0;34m(\u001b[0m\u001b[0;34m)\u001b[0m\u001b[0;34m\u001b[0m\u001b[0;34m\u001b[0m\u001b[0m\n\u001b[0m",
            "\u001b[0;32m<ipython-input-5-110b750a33c8>\u001b[0m in \u001b[0;36mguess_number\u001b[0;34m()\u001b[0m\n\u001b[1;32m     41\u001b[0m         \u001b[0mguesses\u001b[0m \u001b[0;34m+=\u001b[0m \u001b[0;36m1\u001b[0m\u001b[0;34m\u001b[0m\u001b[0;34m\u001b[0m\u001b[0m\n\u001b[1;32m     42\u001b[0m         \u001b[0;31m# 使用 AI 生成模型猜測數字\u001b[0m\u001b[0;34m\u001b[0m\u001b[0;34m\u001b[0m\u001b[0m\n\u001b[0;32m---> 43\u001b[0;31m         \u001b[0mguess\u001b[0m \u001b[0;34m=\u001b[0m \u001b[0mai_guess_number\u001b[0m\u001b[0;34m(\u001b[0m\u001b[0mlow\u001b[0m\u001b[0;34m,\u001b[0m \u001b[0mhigh\u001b[0m\u001b[0;34m)\u001b[0m\u001b[0;34m\u001b[0m\u001b[0;34m\u001b[0m\u001b[0m\n\u001b[0m\u001b[1;32m     44\u001b[0m         \u001b[0mslow_print\u001b[0m\u001b[0;34m(\u001b[0m\u001b[0;34mf\"AI 猜測的數字是：{guess}\"\u001b[0m\u001b[0;34m)\u001b[0m\u001b[0;34m\u001b[0m\u001b[0;34m\u001b[0m\u001b[0m\n\u001b[1;32m     45\u001b[0m \u001b[0;34m\u001b[0m\u001b[0m\n",
            "\u001b[0;32m<ipython-input-5-110b750a33c8>\u001b[0m in \u001b[0;36mai_guess_number\u001b[0;34m(low, high)\u001b[0m\n\u001b[1;32m     22\u001b[0m     \u001b[0;32mwhile\u001b[0m \u001b[0;32mTrue\u001b[0m\u001b[0;34m:\u001b[0m\u001b[0;34m\u001b[0m\u001b[0;34m\u001b[0m\u001b[0m\n\u001b[1;32m     23\u001b[0m         \u001b[0mprompt\u001b[0m \u001b[0;34m=\u001b[0m \u001b[0;34mf\"我正在玩一個猜數字遊戲，請隨機猜一個在 {low} 到 {high} 之間的數字。\"\u001b[0m\u001b[0;34m\u001b[0m\u001b[0;34m\u001b[0m\u001b[0m\n\u001b[0;32m---> 24\u001b[0;31m         \u001b[0mresponse\u001b[0m \u001b[0;34m=\u001b[0m \u001b[0mmodel\u001b[0m\u001b[0;34m.\u001b[0m\u001b[0mgenerate_content\u001b[0m\u001b[0;34m(\u001b[0m\u001b[0mprompt\u001b[0m\u001b[0;34m)\u001b[0m\u001b[0;34m\u001b[0m\u001b[0;34m\u001b[0m\u001b[0m\n\u001b[0m\u001b[1;32m     25\u001b[0m \u001b[0;34m\u001b[0m\u001b[0m\n\u001b[1;32m     26\u001b[0m         \u001b[0mmatch\u001b[0m \u001b[0;34m=\u001b[0m \u001b[0mre\u001b[0m\u001b[0;34m.\u001b[0m\u001b[0msearch\u001b[0m\u001b[0;34m(\u001b[0m\u001b[0;34mr'\\b(\\d+)\\b'\u001b[0m\u001b[0;34m,\u001b[0m \u001b[0mresponse\u001b[0m\u001b[0;34m.\u001b[0m\u001b[0mtext\u001b[0m\u001b[0;34m)\u001b[0m\u001b[0;34m\u001b[0m\u001b[0;34m\u001b[0m\u001b[0m\n",
            "\u001b[0;32m/usr/local/lib/python3.10/dist-packages/google/generativeai/generative_models.py\u001b[0m in \u001b[0;36mgenerate_content\u001b[0;34m(self, contents, generation_config, safety_settings, stream, tools, tool_config, request_options)\u001b[0m\n\u001b[1;32m    329\u001b[0m                 \u001b[0;32mreturn\u001b[0m \u001b[0mgeneration_types\u001b[0m\u001b[0;34m.\u001b[0m\u001b[0mGenerateContentResponse\u001b[0m\u001b[0;34m.\u001b[0m\u001b[0mfrom_iterator\u001b[0m\u001b[0;34m(\u001b[0m\u001b[0miterator\u001b[0m\u001b[0;34m)\u001b[0m\u001b[0;34m\u001b[0m\u001b[0;34m\u001b[0m\u001b[0m\n\u001b[1;32m    330\u001b[0m             \u001b[0;32melse\u001b[0m\u001b[0;34m:\u001b[0m\u001b[0;34m\u001b[0m\u001b[0;34m\u001b[0m\u001b[0m\n\u001b[0;32m--> 331\u001b[0;31m                 response = self._client.generate_content(\n\u001b[0m\u001b[1;32m    332\u001b[0m                     \u001b[0mrequest\u001b[0m\u001b[0;34m,\u001b[0m\u001b[0;34m\u001b[0m\u001b[0;34m\u001b[0m\u001b[0m\n\u001b[1;32m    333\u001b[0m                     \u001b[0;34m**\u001b[0m\u001b[0mrequest_options\u001b[0m\u001b[0;34m,\u001b[0m\u001b[0;34m\u001b[0m\u001b[0;34m\u001b[0m\u001b[0m\n",
            "\u001b[0;32m/usr/local/lib/python3.10/dist-packages/google/ai/generativelanguage_v1beta/services/generative_service/client.py\u001b[0m in \u001b[0;36mgenerate_content\u001b[0;34m(self, request, model, contents, retry, timeout, metadata)\u001b[0m\n\u001b[1;32m    828\u001b[0m \u001b[0;34m\u001b[0m\u001b[0m\n\u001b[1;32m    829\u001b[0m         \u001b[0;31m# Send the request.\u001b[0m\u001b[0;34m\u001b[0m\u001b[0;34m\u001b[0m\u001b[0m\n\u001b[0;32m--> 830\u001b[0;31m         response = rpc(\n\u001b[0m\u001b[1;32m    831\u001b[0m             \u001b[0mrequest\u001b[0m\u001b[0;34m,\u001b[0m\u001b[0;34m\u001b[0m\u001b[0;34m\u001b[0m\u001b[0m\n\u001b[1;32m    832\u001b[0m             \u001b[0mretry\u001b[0m\u001b[0;34m=\u001b[0m\u001b[0mretry\u001b[0m\u001b[0;34m,\u001b[0m\u001b[0;34m\u001b[0m\u001b[0;34m\u001b[0m\u001b[0m\n",
            "\u001b[0;32m/usr/local/lib/python3.10/dist-packages/google/api_core/gapic_v1/method.py\u001b[0m in \u001b[0;36m__call__\u001b[0;34m(self, timeout, retry, compression, *args, **kwargs)\u001b[0m\n\u001b[1;32m    129\u001b[0m             \u001b[0mkwargs\u001b[0m\u001b[0;34m[\u001b[0m\u001b[0;34m\"compression\"\u001b[0m\u001b[0;34m]\u001b[0m \u001b[0;34m=\u001b[0m \u001b[0mcompression\u001b[0m\u001b[0;34m\u001b[0m\u001b[0;34m\u001b[0m\u001b[0m\n\u001b[1;32m    130\u001b[0m \u001b[0;34m\u001b[0m\u001b[0m\n\u001b[0;32m--> 131\u001b[0;31m         \u001b[0;32mreturn\u001b[0m \u001b[0mwrapped_func\u001b[0m\u001b[0;34m(\u001b[0m\u001b[0;34m*\u001b[0m\u001b[0margs\u001b[0m\u001b[0;34m,\u001b[0m \u001b[0;34m**\u001b[0m\u001b[0mkwargs\u001b[0m\u001b[0;34m)\u001b[0m\u001b[0;34m\u001b[0m\u001b[0;34m\u001b[0m\u001b[0m\n\u001b[0m\u001b[1;32m    132\u001b[0m \u001b[0;34m\u001b[0m\u001b[0m\n\u001b[1;32m    133\u001b[0m \u001b[0;34m\u001b[0m\u001b[0m\n",
            "\u001b[0;32m/usr/local/lib/python3.10/dist-packages/google/api_core/retry/retry_unary.py\u001b[0m in \u001b[0;36mretry_wrapped_func\u001b[0;34m(*args, **kwargs)\u001b[0m\n\u001b[1;32m    291\u001b[0m                 \u001b[0mself\u001b[0m\u001b[0;34m.\u001b[0m\u001b[0m_initial\u001b[0m\u001b[0;34m,\u001b[0m \u001b[0mself\u001b[0m\u001b[0;34m.\u001b[0m\u001b[0m_maximum\u001b[0m\u001b[0;34m,\u001b[0m \u001b[0mmultiplier\u001b[0m\u001b[0;34m=\u001b[0m\u001b[0mself\u001b[0m\u001b[0;34m.\u001b[0m\u001b[0m_multiplier\u001b[0m\u001b[0;34m\u001b[0m\u001b[0;34m\u001b[0m\u001b[0m\n\u001b[1;32m    292\u001b[0m             )\n\u001b[0;32m--> 293\u001b[0;31m             return retry_target(\n\u001b[0m\u001b[1;32m    294\u001b[0m                 \u001b[0mtarget\u001b[0m\u001b[0;34m,\u001b[0m\u001b[0;34m\u001b[0m\u001b[0;34m\u001b[0m\u001b[0m\n\u001b[1;32m    295\u001b[0m                 \u001b[0mself\u001b[0m\u001b[0;34m.\u001b[0m\u001b[0m_predicate\u001b[0m\u001b[0;34m,\u001b[0m\u001b[0;34m\u001b[0m\u001b[0;34m\u001b[0m\u001b[0m\n",
            "\u001b[0;32m/usr/local/lib/python3.10/dist-packages/google/api_core/retry/retry_unary.py\u001b[0m in \u001b[0;36mretry_target\u001b[0;34m(target, predicate, sleep_generator, timeout, on_error, exception_factory, **kwargs)\u001b[0m\n\u001b[1;32m    151\u001b[0m         \u001b[0;32mexcept\u001b[0m \u001b[0mException\u001b[0m \u001b[0;32mas\u001b[0m \u001b[0mexc\u001b[0m\u001b[0;34m:\u001b[0m\u001b[0;34m\u001b[0m\u001b[0;34m\u001b[0m\u001b[0m\n\u001b[1;32m    152\u001b[0m             \u001b[0;31m# defer to shared logic for handling errors\u001b[0m\u001b[0;34m\u001b[0m\u001b[0;34m\u001b[0m\u001b[0m\n\u001b[0;32m--> 153\u001b[0;31m             _retry_error_helper(\n\u001b[0m\u001b[1;32m    154\u001b[0m                 \u001b[0mexc\u001b[0m\u001b[0;34m,\u001b[0m\u001b[0;34m\u001b[0m\u001b[0;34m\u001b[0m\u001b[0m\n\u001b[1;32m    155\u001b[0m                 \u001b[0mdeadline\u001b[0m\u001b[0;34m,\u001b[0m\u001b[0;34m\u001b[0m\u001b[0;34m\u001b[0m\u001b[0m\n",
            "\u001b[0;32m/usr/local/lib/python3.10/dist-packages/google/api_core/retry/retry_base.py\u001b[0m in \u001b[0;36m_retry_error_helper\u001b[0;34m(exc, deadline, next_sleep, error_list, predicate_fn, on_error_fn, exc_factory_fn, original_timeout)\u001b[0m\n\u001b[1;32m    210\u001b[0m             \u001b[0moriginal_timeout\u001b[0m\u001b[0;34m,\u001b[0m\u001b[0;34m\u001b[0m\u001b[0;34m\u001b[0m\u001b[0m\n\u001b[1;32m    211\u001b[0m         )\n\u001b[0;32m--> 212\u001b[0;31m         \u001b[0;32mraise\u001b[0m \u001b[0mfinal_exc\u001b[0m \u001b[0;32mfrom\u001b[0m \u001b[0msource_exc\u001b[0m\u001b[0;34m\u001b[0m\u001b[0;34m\u001b[0m\u001b[0m\n\u001b[0m\u001b[1;32m    213\u001b[0m     \u001b[0;32mif\u001b[0m \u001b[0mon_error_fn\u001b[0m \u001b[0;32mis\u001b[0m \u001b[0;32mnot\u001b[0m \u001b[0;32mNone\u001b[0m\u001b[0;34m:\u001b[0m\u001b[0;34m\u001b[0m\u001b[0;34m\u001b[0m\u001b[0m\n\u001b[1;32m    214\u001b[0m         \u001b[0mon_error_fn\u001b[0m\u001b[0;34m(\u001b[0m\u001b[0mexc\u001b[0m\u001b[0;34m)\u001b[0m\u001b[0;34m\u001b[0m\u001b[0;34m\u001b[0m\u001b[0m\n",
            "\u001b[0;32m/usr/local/lib/python3.10/dist-packages/google/api_core/retry/retry_unary.py\u001b[0m in \u001b[0;36mretry_target\u001b[0;34m(target, predicate, sleep_generator, timeout, on_error, exception_factory, **kwargs)\u001b[0m\n\u001b[1;32m    142\u001b[0m     \u001b[0;32mfor\u001b[0m \u001b[0msleep\u001b[0m \u001b[0;32min\u001b[0m \u001b[0msleep_generator\u001b[0m\u001b[0;34m:\u001b[0m\u001b[0;34m\u001b[0m\u001b[0;34m\u001b[0m\u001b[0m\n\u001b[1;32m    143\u001b[0m         \u001b[0;32mtry\u001b[0m\u001b[0;34m:\u001b[0m\u001b[0;34m\u001b[0m\u001b[0;34m\u001b[0m\u001b[0m\n\u001b[0;32m--> 144\u001b[0;31m             \u001b[0mresult\u001b[0m \u001b[0;34m=\u001b[0m \u001b[0mtarget\u001b[0m\u001b[0;34m(\u001b[0m\u001b[0;34m)\u001b[0m\u001b[0;34m\u001b[0m\u001b[0;34m\u001b[0m\u001b[0m\n\u001b[0m\u001b[1;32m    145\u001b[0m             \u001b[0;32mif\u001b[0m \u001b[0minspect\u001b[0m\u001b[0;34m.\u001b[0m\u001b[0misawaitable\u001b[0m\u001b[0;34m(\u001b[0m\u001b[0mresult\u001b[0m\u001b[0;34m)\u001b[0m\u001b[0;34m:\u001b[0m\u001b[0;34m\u001b[0m\u001b[0;34m\u001b[0m\u001b[0m\n\u001b[1;32m    146\u001b[0m                 \u001b[0mwarnings\u001b[0m\u001b[0;34m.\u001b[0m\u001b[0mwarn\u001b[0m\u001b[0;34m(\u001b[0m\u001b[0m_ASYNC_RETRY_WARNING\u001b[0m\u001b[0;34m)\u001b[0m\u001b[0;34m\u001b[0m\u001b[0;34m\u001b[0m\u001b[0m\n",
            "\u001b[0;32m/usr/local/lib/python3.10/dist-packages/google/api_core/timeout.py\u001b[0m in \u001b[0;36mfunc_with_timeout\u001b[0;34m(*args, **kwargs)\u001b[0m\n\u001b[1;32m    118\u001b[0m                 \u001b[0mkwargs\u001b[0m\u001b[0;34m[\u001b[0m\u001b[0;34m\"timeout\"\u001b[0m\u001b[0;34m]\u001b[0m \u001b[0;34m=\u001b[0m \u001b[0mmax\u001b[0m\u001b[0;34m(\u001b[0m\u001b[0;36m0\u001b[0m\u001b[0;34m,\u001b[0m \u001b[0mself\u001b[0m\u001b[0;34m.\u001b[0m\u001b[0m_timeout\u001b[0m \u001b[0;34m-\u001b[0m \u001b[0mtime_since_first_attempt\u001b[0m\u001b[0;34m)\u001b[0m\u001b[0;34m\u001b[0m\u001b[0;34m\u001b[0m\u001b[0m\n\u001b[1;32m    119\u001b[0m \u001b[0;34m\u001b[0m\u001b[0m\n\u001b[0;32m--> 120\u001b[0;31m             \u001b[0;32mreturn\u001b[0m \u001b[0mfunc\u001b[0m\u001b[0;34m(\u001b[0m\u001b[0;34m*\u001b[0m\u001b[0margs\u001b[0m\u001b[0;34m,\u001b[0m \u001b[0;34m**\u001b[0m\u001b[0mkwargs\u001b[0m\u001b[0;34m)\u001b[0m\u001b[0;34m\u001b[0m\u001b[0;34m\u001b[0m\u001b[0m\n\u001b[0m\u001b[1;32m    121\u001b[0m \u001b[0;34m\u001b[0m\u001b[0m\n\u001b[1;32m    122\u001b[0m         \u001b[0;32mreturn\u001b[0m \u001b[0mfunc_with_timeout\u001b[0m\u001b[0;34m\u001b[0m\u001b[0;34m\u001b[0m\u001b[0m\n",
            "\u001b[0;32m/usr/local/lib/python3.10/dist-packages/google/api_core/grpc_helpers.py\u001b[0m in \u001b[0;36merror_remapped_callable\u001b[0;34m(*args, **kwargs)\u001b[0m\n\u001b[1;32m     74\u001b[0m     \u001b[0;32mdef\u001b[0m \u001b[0merror_remapped_callable\u001b[0m\u001b[0;34m(\u001b[0m\u001b[0;34m*\u001b[0m\u001b[0margs\u001b[0m\u001b[0;34m,\u001b[0m \u001b[0;34m**\u001b[0m\u001b[0mkwargs\u001b[0m\u001b[0;34m)\u001b[0m\u001b[0;34m:\u001b[0m\u001b[0;34m\u001b[0m\u001b[0;34m\u001b[0m\u001b[0m\n\u001b[1;32m     75\u001b[0m         \u001b[0;32mtry\u001b[0m\u001b[0;34m:\u001b[0m\u001b[0;34m\u001b[0m\u001b[0;34m\u001b[0m\u001b[0m\n\u001b[0;32m---> 76\u001b[0;31m             \u001b[0;32mreturn\u001b[0m \u001b[0mcallable_\u001b[0m\u001b[0;34m(\u001b[0m\u001b[0;34m*\u001b[0m\u001b[0margs\u001b[0m\u001b[0;34m,\u001b[0m \u001b[0;34m**\u001b[0m\u001b[0mkwargs\u001b[0m\u001b[0;34m)\u001b[0m\u001b[0;34m\u001b[0m\u001b[0;34m\u001b[0m\u001b[0m\n\u001b[0m\u001b[1;32m     77\u001b[0m         \u001b[0;32mexcept\u001b[0m \u001b[0mgrpc\u001b[0m\u001b[0;34m.\u001b[0m\u001b[0mRpcError\u001b[0m \u001b[0;32mas\u001b[0m \u001b[0mexc\u001b[0m\u001b[0;34m:\u001b[0m\u001b[0;34m\u001b[0m\u001b[0;34m\u001b[0m\u001b[0m\n\u001b[1;32m     78\u001b[0m             \u001b[0;32mraise\u001b[0m \u001b[0mexceptions\u001b[0m\u001b[0;34m.\u001b[0m\u001b[0mfrom_grpc_error\u001b[0m\u001b[0;34m(\u001b[0m\u001b[0mexc\u001b[0m\u001b[0;34m)\u001b[0m \u001b[0;32mfrom\u001b[0m \u001b[0mexc\u001b[0m\u001b[0;34m\u001b[0m\u001b[0;34m\u001b[0m\u001b[0m\n",
            "\u001b[0;32m/usr/local/lib/python3.10/dist-packages/google/ai/generativelanguage_v1beta/services/generative_service/transports/rest.py\u001b[0m in \u001b[0;36m__call__\u001b[0;34m(self, request, retry, timeout, metadata)\u001b[0m\n\u001b[1;32m    845\u001b[0m             \u001b[0;31m# subclass.\u001b[0m\u001b[0;34m\u001b[0m\u001b[0;34m\u001b[0m\u001b[0m\n\u001b[1;32m    846\u001b[0m             \u001b[0;32mif\u001b[0m \u001b[0mresponse\u001b[0m\u001b[0;34m.\u001b[0m\u001b[0mstatus_code\u001b[0m \u001b[0;34m>=\u001b[0m \u001b[0;36m400\u001b[0m\u001b[0;34m:\u001b[0m\u001b[0;34m\u001b[0m\u001b[0;34m\u001b[0m\u001b[0m\n\u001b[0;32m--> 847\u001b[0;31m                 \u001b[0;32mraise\u001b[0m \u001b[0mcore_exceptions\u001b[0m\u001b[0;34m.\u001b[0m\u001b[0mfrom_http_response\u001b[0m\u001b[0;34m(\u001b[0m\u001b[0mresponse\u001b[0m\u001b[0;34m)\u001b[0m\u001b[0;34m\u001b[0m\u001b[0;34m\u001b[0m\u001b[0m\n\u001b[0m\u001b[1;32m    848\u001b[0m \u001b[0;34m\u001b[0m\u001b[0m\n\u001b[1;32m    849\u001b[0m             \u001b[0;31m# Return the response\u001b[0m\u001b[0;34m\u001b[0m\u001b[0;34m\u001b[0m\u001b[0m\n",
            "\u001b[0;31mBadRequest\u001b[0m: 400 POST https://generativelanguage.googleapis.com/v1beta/models/gemini-1.5-flash:generateContent?%24alt=json%3Benum-encoding%3Dint: API key not valid. Please pass a valid API key."
          ]
        }
      ]
    }
  ]
}