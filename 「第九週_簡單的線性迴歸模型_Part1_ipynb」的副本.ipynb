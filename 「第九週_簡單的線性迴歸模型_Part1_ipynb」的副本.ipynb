{
  "cells": [
    {
      "cell_type": "markdown",
      "metadata": {
        "id": "view-in-github",
        "colab_type": "text"
      },
      "source": [
        "<a href=\"https://colab.research.google.com/github/Huwalli/PLta/blob/main/%E3%80%8C%E7%AC%AC%E4%B9%9D%E9%80%B1_%E7%B0%A1%E5%96%AE%E7%9A%84%E7%B7%9A%E6%80%A7%E8%BF%B4%E6%AD%B8%E6%A8%A1%E5%9E%8B_Part1_ipynb%E3%80%8D%E7%9A%84%E5%89%AF%E6%9C%AC.ipynb\" target=\"_parent\"><img src=\"https://colab.research.google.com/assets/colab-badge.svg\" alt=\"Open In Colab\"/></a>"
      ]
    },
    {
      "cell_type": "markdown",
      "source": [
        "# 飲料價格的預測"
      ],
      "metadata": {
        "id": "X8WzXZXKz9mf"
      }
    },
    {
      "cell_type": "markdown",
      "source": [
        "以剛才的飲料為例，這邊試試看電腦會怎麼估價!!"
      ],
      "metadata": {
        "id": "actdv6KnzG3L"
      }
    },
    {
      "cell_type": "code",
      "source": [
        "import numpy as np\n",
        "from sklearn.linear_model import LinearRegression\n",
        "# 輸入現有手搖ml及價格資料\n",
        "X_train = np.array([300, 400, 500, 600, 700]).reshape(-1, 1)\n",
        "y_train = [35, 45, 55, 65, 75]\n",
        "\n",
        "model = LinearRegression()\n",
        "model.fit(X_train, y_train)\n",
        "\n",
        "# 預測 550ml 的價格\n",
        "print(model.predict([[550]]))"
      ],
      "metadata": {
        "colab": {
          "base_uri": "https://localhost:8080/"
        },
        "id": "yaCYP8NZy9MG",
        "outputId": "88091eda-5b0f-4e6f-8c88-3777b60485ff"
      },
      "execution_count": 6,
      "outputs": [
        {
          "output_type": "stream",
          "name": "stdout",
          "text": [
            "[60.]\n"
          ]
        }
      ]
    },
    {
      "cell_type": "code",
      "source": [
        "# 計算訓練資料的 R²\n",
        "r_squared = model.score(X_train, y_train)\n",
        "print(\"訓練資料的 R²:\", r_squared)"
      ],
      "metadata": {
        "colab": {
          "base_uri": "https://localhost:8080/"
        },
        "id": "_t2HFNTK0kVJ",
        "outputId": "cc2b8215-9799-4d24-f38d-79ef53fe6606"
      },
      "execution_count": 7,
      "outputs": [
        {
          "output_type": "stream",
          "name": "stdout",
          "text": [
            "訓練資料的 R²: 1.0\n"
          ]
        }
      ]
    },
    {
      "cell_type": "markdown",
      "source": [
        "想想看，如果我今天700ml的訂價改成70，要怎麼知道550ml的手搖多少錢?請直接修改上面的程式碼取的答案 !!以及他們的R²誰比較高 (10min)"
      ],
      "metadata": {
        "id": "zGwzB_i2zetP"
      }
    },
    {
      "cell_type": "markdown",
      "source": [
        "# 畫個線性迴歸圖"
      ],
      "metadata": {
        "id": "Bf8NYW3z0FUP"
      }
    },
    {
      "cell_type": "markdown",
      "source": [
        "這邊以\n",
        "\n",
        "X(ml數) = [300, 400, 500, 600, 700]\n",
        "\n",
        "\n",
        "y(價格) = [35, 45, 55, 65, 70]\n",
        "\n",
        "的例子為例劃出線性回歸預測圖"
      ],
      "metadata": {
        "id": "mjBLTWFD21ga"
      }
    },
    {
      "cell_type": "code",
      "execution_count": 13,
      "metadata": {
        "deletable": true,
        "editable": true,
        "colab": {
          "base_uri": "https://localhost:8080/",
          "height": 1000
        },
        "id": "rv-N1XotwpwK",
        "outputId": "3a6be02d-c00e-4fe7-8e7d-271defeda1ee"
      },
      "outputs": [
        {
          "output_type": "stream",
          "name": "stderr",
          "text": [
            "WARNING:matplotlib.font_manager:findfont: Generic family 'sans-serif' not found because none of the following families were found: Microsoft JhengHei\n",
            "WARNING:matplotlib.font_manager:findfont: Generic family 'sans-serif' not found because none of the following families were found: Microsoft JhengHei\n",
            "WARNING:matplotlib.font_manager:findfont: Generic family 'sans-serif' not found because none of the following families were found: Microsoft JhengHei\n",
            "WARNING:matplotlib.font_manager:findfont: Generic family 'sans-serif' not found because none of the following families were found: Microsoft JhengHei\n",
            "WARNING:matplotlib.font_manager:findfont: Generic family 'sans-serif' not found because none of the following families were found: Microsoft JhengHei\n",
            "WARNING:matplotlib.font_manager:findfont: Generic family 'sans-serif' not found because none of the following families were found: Microsoft JhengHei\n",
            "WARNING:matplotlib.font_manager:findfont: Generic family 'sans-serif' not found because none of the following families were found: Microsoft JhengHei\n",
            "WARNING:matplotlib.font_manager:findfont: Generic family 'sans-serif' not found because none of the following families were found: Microsoft JhengHei\n",
            "WARNING:matplotlib.font_manager:findfont: Generic family 'sans-serif' not found because none of the following families were found: Microsoft JhengHei\n",
            "WARNING:matplotlib.font_manager:findfont: Generic family 'sans-serif' not found because none of the following families were found: Microsoft JhengHei\n",
            "WARNING:matplotlib.font_manager:findfont: Generic family 'sans-serif' not found because none of the following families were found: Microsoft JhengHei\n",
            "WARNING:matplotlib.font_manager:findfont: Generic family 'sans-serif' not found because none of the following families were found: Microsoft JhengHei\n",
            "WARNING:matplotlib.font_manager:findfont: Generic family 'sans-serif' not found because none of the following families were found: Microsoft JhengHei\n",
            "WARNING:matplotlib.font_manager:findfont: Generic family 'sans-serif' not found because none of the following families were found: Microsoft JhengHei\n",
            "WARNING:matplotlib.font_manager:findfont: Generic family 'sans-serif' not found because none of the following families were found: Microsoft JhengHei\n",
            "WARNING:matplotlib.font_manager:findfont: Generic family 'sans-serif' not found because none of the following families were found: Microsoft JhengHei\n",
            "WARNING:matplotlib.font_manager:findfont: Generic family 'sans-serif' not found because none of the following families were found: Microsoft JhengHei\n",
            "WARNING:matplotlib.font_manager:findfont: Generic family 'sans-serif' not found because none of the following families were found: Microsoft JhengHei\n",
            "WARNING:matplotlib.font_manager:findfont: Generic family 'sans-serif' not found because none of the following families were found: Microsoft JhengHei\n",
            "WARNING:matplotlib.font_manager:findfont: Generic family 'sans-serif' not found because none of the following families were found: Microsoft JhengHei\n",
            "WARNING:matplotlib.font_manager:findfont: Generic family 'sans-serif' not found because none of the following families were found: Microsoft JhengHei\n",
            "WARNING:matplotlib.font_manager:findfont: Generic family 'sans-serif' not found because none of the following families were found: Microsoft JhengHei\n",
            "WARNING:matplotlib.font_manager:findfont: Generic family 'sans-serif' not found because none of the following families were found: Microsoft JhengHei\n",
            "WARNING:matplotlib.font_manager:findfont: Generic family 'sans-serif' not found because none of the following families were found: Microsoft JhengHei\n",
            "WARNING:matplotlib.font_manager:findfont: Generic family 'sans-serif' not found because none of the following families were found: Microsoft JhengHei\n",
            "WARNING:matplotlib.font_manager:findfont: Generic family 'sans-serif' not found because none of the following families were found: Microsoft JhengHei\n",
            "WARNING:matplotlib.font_manager:findfont: Generic family 'sans-serif' not found because none of the following families were found: Microsoft JhengHei\n",
            "WARNING:matplotlib.font_manager:findfont: Generic family 'sans-serif' not found because none of the following families were found: Microsoft JhengHei\n",
            "WARNING:matplotlib.font_manager:findfont: Generic family 'sans-serif' not found because none of the following families were found: Microsoft JhengHei\n",
            "WARNING:matplotlib.font_manager:findfont: Generic family 'sans-serif' not found because none of the following families were found: Microsoft JhengHei\n",
            "WARNING:matplotlib.font_manager:findfont: Generic family 'sans-serif' not found because none of the following families were found: Microsoft JhengHei\n",
            "WARNING:matplotlib.font_manager:findfont: Generic family 'sans-serif' not found because none of the following families were found: Microsoft JhengHei\n",
            "WARNING:matplotlib.font_manager:findfont: Generic family 'sans-serif' not found because none of the following families were found: Microsoft JhengHei\n",
            "WARNING:matplotlib.font_manager:findfont: Generic family 'sans-serif' not found because none of the following families were found: Microsoft JhengHei\n",
            "WARNING:matplotlib.font_manager:findfont: Generic family 'sans-serif' not found because none of the following families were found: Microsoft JhengHei\n",
            "WARNING:matplotlib.font_manager:findfont: Generic family 'sans-serif' not found because none of the following families were found: Microsoft JhengHei\n",
            "WARNING:matplotlib.font_manager:findfont: Generic family 'sans-serif' not found because none of the following families were found: Microsoft JhengHei\n",
            "WARNING:matplotlib.font_manager:findfont: Generic family 'sans-serif' not found because none of the following families were found: Microsoft JhengHei\n",
            "WARNING:matplotlib.font_manager:findfont: Generic family 'sans-serif' not found because none of the following families were found: Microsoft JhengHei\n",
            "WARNING:matplotlib.font_manager:findfont: Generic family 'sans-serif' not found because none of the following families were found: Microsoft JhengHei\n",
            "WARNING:matplotlib.font_manager:findfont: Generic family 'sans-serif' not found because none of the following families were found: Microsoft JhengHei\n",
            "WARNING:matplotlib.font_manager:findfont: Generic family 'sans-serif' not found because none of the following families were found: Microsoft JhengHei\n",
            "WARNING:matplotlib.font_manager:findfont: Generic family 'sans-serif' not found because none of the following families were found: Microsoft JhengHei\n",
            "WARNING:matplotlib.font_manager:findfont: Generic family 'sans-serif' not found because none of the following families were found: Microsoft JhengHei\n",
            "WARNING:matplotlib.font_manager:findfont: Generic family 'sans-serif' not found because none of the following families were found: Microsoft JhengHei\n",
            "WARNING:matplotlib.font_manager:findfont: Generic family 'sans-serif' not found because none of the following families were found: Microsoft JhengHei\n",
            "WARNING:matplotlib.font_manager:findfont: Generic family 'sans-serif' not found because none of the following families were found: Microsoft JhengHei\n",
            "WARNING:matplotlib.font_manager:findfont: Generic family 'sans-serif' not found because none of the following families were found: Microsoft JhengHei\n",
            "WARNING:matplotlib.font_manager:findfont: Generic family 'sans-serif' not found because none of the following families were found: Microsoft JhengHei\n",
            "WARNING:matplotlib.font_manager:findfont: Generic family 'sans-serif' not found because none of the following families were found: Microsoft JhengHei\n",
            "WARNING:matplotlib.font_manager:findfont: Generic family 'sans-serif' not found because none of the following families were found: Microsoft JhengHei\n",
            "WARNING:matplotlib.font_manager:findfont: Generic family 'sans-serif' not found because none of the following families were found: Microsoft JhengHei\n",
            "WARNING:matplotlib.font_manager:findfont: Generic family 'sans-serif' not found because none of the following families were found: Microsoft JhengHei\n",
            "WARNING:matplotlib.font_manager:findfont: Generic family 'sans-serif' not found because none of the following families were found: Microsoft JhengHei\n",
            "WARNING:matplotlib.font_manager:findfont: Generic family 'sans-serif' not found because none of the following families were found: Microsoft JhengHei\n",
            "WARNING:matplotlib.font_manager:findfont: Generic family 'sans-serif' not found because none of the following families were found: Microsoft JhengHei\n",
            "WARNING:matplotlib.font_manager:findfont: Generic family 'sans-serif' not found because none of the following families were found: Microsoft JhengHei\n",
            "WARNING:matplotlib.font_manager:findfont: Generic family 'sans-serif' not found because none of the following families were found: Microsoft JhengHei\n",
            "WARNING:matplotlib.font_manager:findfont: Generic family 'sans-serif' not found because none of the following families were found: Microsoft JhengHei\n",
            "WARNING:matplotlib.font_manager:findfont: Generic family 'sans-serif' not found because none of the following families were found: Microsoft JhengHei\n",
            "WARNING:matplotlib.font_manager:findfont: Generic family 'sans-serif' not found because none of the following families were found: Microsoft JhengHei\n",
            "WARNING:matplotlib.font_manager:findfont: Generic family 'sans-serif' not found because none of the following families were found: Microsoft JhengHei\n",
            "WARNING:matplotlib.font_manager:findfont: Generic family 'sans-serif' not found because none of the following families were found: Microsoft JhengHei\n",
            "WARNING:matplotlib.font_manager:findfont: Generic family 'sans-serif' not found because none of the following families were found: Microsoft JhengHei\n",
            "WARNING:matplotlib.font_manager:findfont: Generic family 'sans-serif' not found because none of the following families were found: Microsoft JhengHei\n",
            "WARNING:matplotlib.font_manager:findfont: Generic family 'sans-serif' not found because none of the following families were found: Microsoft JhengHei\n",
            "WARNING:matplotlib.font_manager:findfont: Generic family 'sans-serif' not found because none of the following families were found: Microsoft JhengHei\n",
            "WARNING:matplotlib.font_manager:findfont: Generic family 'sans-serif' not found because none of the following families were found: Microsoft JhengHei\n",
            "WARNING:matplotlib.font_manager:findfont: Generic family 'sans-serif' not found because none of the following families were found: Microsoft JhengHei\n",
            "WARNING:matplotlib.font_manager:findfont: Generic family 'sans-serif' not found because none of the following families were found: Microsoft JhengHei\n",
            "WARNING:matplotlib.font_manager:findfont: Generic family 'sans-serif' not found because none of the following families were found: Microsoft JhengHei\n",
            "WARNING:matplotlib.font_manager:findfont: Generic family 'sans-serif' not found because none of the following families were found: Microsoft JhengHei\n",
            "WARNING:matplotlib.font_manager:findfont: Generic family 'sans-serif' not found because none of the following families were found: Microsoft JhengHei\n",
            "WARNING:matplotlib.font_manager:findfont: Generic family 'sans-serif' not found because none of the following families were found: Microsoft JhengHei\n",
            "WARNING:matplotlib.font_manager:findfont: Generic family 'sans-serif' not found because none of the following families were found: Microsoft JhengHei\n",
            "WARNING:matplotlib.font_manager:findfont: Generic family 'sans-serif' not found because none of the following families were found: Microsoft JhengHei\n",
            "WARNING:matplotlib.font_manager:findfont: Generic family 'sans-serif' not found because none of the following families were found: Microsoft JhengHei\n",
            "WARNING:matplotlib.font_manager:findfont: Generic family 'sans-serif' not found because none of the following families were found: Microsoft JhengHei\n",
            "WARNING:matplotlib.font_manager:findfont: Generic family 'sans-serif' not found because none of the following families were found: Microsoft JhengHei\n",
            "WARNING:matplotlib.font_manager:findfont: Generic family 'sans-serif' not found because none of the following families were found: Microsoft JhengHei\n",
            "WARNING:matplotlib.font_manager:findfont: Generic family 'sans-serif' not found because none of the following families were found: Microsoft JhengHei\n",
            "WARNING:matplotlib.font_manager:findfont: Generic family 'sans-serif' not found because none of the following families were found: Microsoft JhengHei\n",
            "WARNING:matplotlib.font_manager:findfont: Generic family 'sans-serif' not found because none of the following families were found: Microsoft JhengHei\n",
            "WARNING:matplotlib.font_manager:findfont: Generic family 'sans-serif' not found because none of the following families were found: Microsoft JhengHei\n",
            "WARNING:matplotlib.font_manager:findfont: Generic family 'sans-serif' not found because none of the following families were found: Microsoft JhengHei\n",
            "WARNING:matplotlib.font_manager:findfont: Generic family 'sans-serif' not found because none of the following families were found: Microsoft JhengHei\n",
            "WARNING:matplotlib.font_manager:findfont: Generic family 'sans-serif' not found because none of the following families were found: Microsoft JhengHei\n",
            "WARNING:matplotlib.font_manager:findfont: Generic family 'sans-serif' not found because none of the following families were found: Microsoft JhengHei\n",
            "WARNING:matplotlib.font_manager:findfont: Generic family 'sans-serif' not found because none of the following families were found: Microsoft JhengHei\n",
            "WARNING:matplotlib.font_manager:findfont: Generic family 'sans-serif' not found because none of the following families were found: Microsoft JhengHei\n",
            "WARNING:matplotlib.font_manager:findfont: Generic family 'sans-serif' not found because none of the following families were found: Microsoft JhengHei\n",
            "WARNING:matplotlib.font_manager:findfont: Generic family 'sans-serif' not found because none of the following families were found: Microsoft JhengHei\n"
          ]
        },
        {
          "output_type": "display_data",
          "data": {
            "text/plain": [
              "<Figure size 640x480 with 1 Axes>"
            ],
            "image/png": "[encoded data removed]"
          },
          "metadata": {}
        }
      ],
      "source": [
        "import numpy as np  # 引入 NumPy，用於數據處理和數值計算\n",
        "import matplotlib.pyplot as plt  # 引入 Matplotlib，用於繪圖\n",
        "from sklearn.linear_model import LinearRegression  # 引入線性回歸模型\n",
        "\n",
        "# 輸入現有手搖飲料容量(ml)及對應價格(NTD)資料\n",
        "X_train = np.array([300, 400, 500, 600, 700]).reshape(-1, 1)  # 將容量資料轉換為二維陣列，因為 scikit-learn 要求特徵矩陣是二維的\n",
        "y_train = [35, 45, 55, 65, 70]  # 對應的價格資料\n",
        "\n",
        "# 建立線性回歸模型\n",
        "model = LinearRegression()\n",
        "\n",
        "# 使用訓練資料來訓練模型\n",
        "model.fit(X_train, y_train)  # 擬合線性回歸模型，根據容量來預測價格\n",
        "\n",
        "# 預測 550ml 的價格\n",
        "predicted_price = model.predict([[550]])  # 輸入 550ml 作為新資料，預測對應的價格\n",
        "\n",
        "# 繪製圖表\n",
        "plt.figure()  # 新建一個圖形窗口\n",
        "plt.title('Relationship between Drink Capacity and Price')  # 設定圖表標題\n",
        "plt.xlabel('Capacity (ml)')  # 設定 x 軸標籤：容量(ml)\n",
        "plt.ylabel('Price (NTD)')  # 設定 y 軸標籤：價格(NTD)\n",
        "\n",
        "# 繪製已知的容量與價格資料點，'ko' 代表畫黑色圓點\n",
        "plt.plot(X_train, y_train, 'ko')  # 繪製實際資料點，'ko' 代表黑色圓點\n",
        "\n",
        "# 繪製回歸直線，使用已訓練的模型預測對應每個容量的價格\n",
        "plt.plot(X_train, model.predict(X_train), 'b-', label='Regression Line')  # 繪製回歸線，'b-' 代表藍色實線\n",
        "\n",
        "# 在圖上標註 550ml 預測的價格，使用綠色標註並顯示預測結果\n",
        "plt.scatter(550, predicted_price, color='green', label=f'Predicted Price: {predicted_price[0]:.2f} NTD', zorder=5)  # 預測點，顯示550ml預測價格，並顯示在圖中\n",
        "\n",
        "# 顯示圖例，這樣可以標識回歸線和預測點\n",
        "plt.legend()  # 顯示圖例，標註回歸線和預測點\n",
        "\n",
        "# 顯示網格線，便於觀察數據點與回歸線的關係\n",
        "plt.grid(True)  # 開啟網格線顯示\n",
        "\n",
        "# 顯示圖表\n",
        "plt.show()  # 顯示圖表\n",
        "\n"
      ]
    },
    {
      "cell_type": "markdown",
      "source": [
        "這條線該怎麼畫？\n",
        "- 憑感覺？\n",
        "\n",
        "- 以下的程式碼將用手動來畫畫看\n"
      ],
      "metadata": {
        "id": "xjEHZzjBxiPs"
      }
    },
    {
      "cell_type": "code",
      "execution_count": 35,
      "metadata": {
        "deletable": true,
        "editable": true,
        "colab": {
          "base_uri": "https://localhost:8080/",
          "height": 1000
        },
        "id": "ZJXczvV-wpwN",
        "outputId": "38cd4ef7-6c7b-4fbf-ddb0-a6e36dec5f91"
      },
      "outputs": [
        {
          "output_type": "stream",
          "name": "stderr",
          "text": [
            "WARNING:matplotlib.font_manager:findfont: Generic family 'sans-serif' not found because none of the following families were found: Microsoft JhengHei\n",
            "WARNING:matplotlib.font_manager:findfont: Generic family 'sans-serif' not found because none of the following families were found: Microsoft JhengHei\n",
            "WARNING:matplotlib.font_manager:findfont: Generic family 'sans-serif' not found because none of the following families were found: Microsoft JhengHei\n",
            "WARNING:matplotlib.font_manager:findfont: Generic family 'sans-serif' not found because none of the following families were found: Microsoft JhengHei\n",
            "WARNING:matplotlib.font_manager:findfont: Generic family 'sans-serif' not found because none of the following families were found: Microsoft JhengHei\n",
            "WARNING:matplotlib.font_manager:findfont: Generic family 'sans-serif' not found because none of the following families were found: Microsoft JhengHei\n",
            "WARNING:matplotlib.font_manager:findfont: Generic family 'sans-serif' not found because none of the following families were found: Microsoft JhengHei\n",
            "WARNING:matplotlib.font_manager:findfont: Generic family 'sans-serif' not found because none of the following families were found: Microsoft JhengHei\n",
            "WARNING:matplotlib.font_manager:findfont: Generic family 'sans-serif' not found because none of the following families were found: Microsoft JhengHei\n",
            "WARNING:matplotlib.font_manager:findfont: Generic family 'sans-serif' not found because none of the following families were found: Microsoft JhengHei\n",
            "WARNING:matplotlib.font_manager:findfont: Generic family 'sans-serif' not found because none of the following families were found: Microsoft JhengHei\n",
            "WARNING:matplotlib.font_manager:findfont: Generic family 'sans-serif' not found because none of the following families were found: Microsoft JhengHei\n",
            "WARNING:matplotlib.font_manager:findfont: Generic family 'sans-serif' not found because none of the following families were found: Microsoft JhengHei\n",
            "WARNING:matplotlib.font_manager:findfont: Generic family 'sans-serif' not found because none of the following families were found: Microsoft JhengHei\n",
            "WARNING:matplotlib.font_manager:findfont: Generic family 'sans-serif' not found because none of the following families were found: Microsoft JhengHei\n",
            "WARNING:matplotlib.font_manager:findfont: Generic family 'sans-serif' not found because none of the following families were found: Microsoft JhengHei\n",
            "WARNING:matplotlib.font_manager:findfont: Generic family 'sans-serif' not found because none of the following families were found: Microsoft JhengHei\n",
            "WARNING:matplotlib.font_manager:findfont: Generic family 'sans-serif' not found because none of the following families were found: Microsoft JhengHei\n",
            "WARNING:matplotlib.font_manager:findfont: Generic family 'sans-serif' not found because none of the following families were found: Microsoft JhengHei\n",
            "WARNING:matplotlib.font_manager:findfont: Generic family 'sans-serif' not found because none of the following families were found: Microsoft JhengHei\n",
            "WARNING:matplotlib.font_manager:findfont: Generic family 'sans-serif' not found because none of the following families were found: Microsoft JhengHei\n",
            "WARNING:matplotlib.font_manager:findfont: Generic family 'sans-serif' not found because none of the following families were found: Microsoft JhengHei\n",
            "WARNING:matplotlib.font_manager:findfont: Generic family 'sans-serif' not found because none of the following families were found: Microsoft JhengHei\n",
            "WARNING:matplotlib.font_manager:findfont: Generic family 'sans-serif' not found because none of the following families were found: Microsoft JhengHei\n",
            "WARNING:matplotlib.font_manager:findfont: Generic family 'sans-serif' not found because none of the following families were found: Microsoft JhengHei\n",
            "WARNING:matplotlib.font_manager:findfont: Generic family 'sans-serif' not found because none of the following families were found: Microsoft JhengHei\n",
            "WARNING:matplotlib.font_manager:findfont: Generic family 'sans-serif' not found because none of the following families were found: Microsoft JhengHei\n",
            "WARNING:matplotlib.font_manager:findfont: Generic family 'sans-serif' not found because none of the following families were found: Microsoft JhengHei\n",
            "WARNING:matplotlib.font_manager:findfont: Generic family 'sans-serif' not found because none of the following families were found: Microsoft JhengHei\n",
            "WARNING:matplotlib.font_manager:findfont: Generic family 'sans-serif' not found because none of the following families were found: Microsoft JhengHei\n",
            "WARNING:matplotlib.font_manager:findfont: Generic family 'sans-serif' not found because none of the following families were found: Microsoft JhengHei\n",
            "WARNING:matplotlib.font_manager:findfont: Generic family 'sans-serif' not found because none of the following families were found: Microsoft JhengHei\n",
            "WARNING:matplotlib.font_manager:findfont: Generic family 'sans-serif' not found because none of the following families were found: Microsoft JhengHei\n",
            "WARNING:matplotlib.font_manager:findfont: Generic family 'sans-serif' not found because none of the following families were found: Microsoft JhengHei\n",
            "WARNING:matplotlib.font_manager:findfont: Generic family 'sans-serif' not found because none of the following families were found: Microsoft JhengHei\n",
            "WARNING:matplotlib.font_manager:findfont: Generic family 'sans-serif' not found because none of the following families were found: Microsoft JhengHei\n",
            "WARNING:matplotlib.font_manager:findfont: Generic family 'sans-serif' not found because none of the following families were found: Microsoft JhengHei\n",
            "WARNING:matplotlib.font_manager:findfont: Generic family 'sans-serif' not found because none of the following families were found: Microsoft JhengHei\n",
            "WARNING:matplotlib.font_manager:findfont: Generic family 'sans-serif' not found because none of the following families were found: Microsoft JhengHei\n",
            "WARNING:matplotlib.font_manager:findfont: Generic family 'sans-serif' not found because none of the following families were found: Microsoft JhengHei\n",
            "WARNING:matplotlib.font_manager:findfont: Generic family 'sans-serif' not found because none of the following families were found: Microsoft JhengHei\n",
            "WARNING:matplotlib.font_manager:findfont: Generic family 'sans-serif' not found because none of the following families were found: Microsoft JhengHei\n",
            "WARNING:matplotlib.font_manager:findfont: Generic family 'sans-serif' not found because none of the following families were found: Microsoft JhengHei\n",
            "WARNING:matplotlib.font_manager:findfont: Generic family 'sans-serif' not found because none of the following families were found: Microsoft JhengHei\n",
            "WARNING:matplotlib.font_manager:findfont: Generic family 'sans-serif' not found because none of the following families were found: Microsoft JhengHei\n",
            "WARNING:matplotlib.font_manager:findfont: Generic family 'sans-serif' not found because none of the following families were found: Microsoft JhengHei\n",
            "WARNING:matplotlib.font_manager:findfont: Generic family 'sans-serif' not found because none of the following families were found: Microsoft JhengHei\n",
            "WARNING:matplotlib.font_manager:findfont: Generic family 'sans-serif' not found because none of the following families were found: Microsoft JhengHei\n",
            "WARNING:matplotlib.font_manager:findfont: Generic family 'sans-serif' not found because none of the following families were found: Microsoft JhengHei\n",
            "WARNING:matplotlib.font_manager:findfont: Generic family 'sans-serif' not found because none of the following families were found: Microsoft JhengHei\n",
            "WARNING:matplotlib.font_manager:findfont: Generic family 'sans-serif' not found because none of the following families were found: Microsoft JhengHei\n",
            "WARNING:matplotlib.font_manager:findfont: Generic family 'sans-serif' not found because none of the following families were found: Microsoft JhengHei\n",
            "WARNING:matplotlib.font_manager:findfont: Generic family 'sans-serif' not found because none of the following families were found: Microsoft JhengHei\n",
            "WARNING:matplotlib.font_manager:findfont: Generic family 'sans-serif' not found because none of the following families were found: Microsoft JhengHei\n",
            "WARNING:matplotlib.font_manager:findfont: Generic family 'sans-serif' not found because none of the following families were found: Microsoft JhengHei\n",
            "WARNING:matplotlib.font_manager:findfont: Generic family 'sans-serif' not found because none of the following families were found: Microsoft JhengHei\n",
            "WARNING:matplotlib.font_manager:findfont: Generic family 'sans-serif' not found because none of the following families were found: Microsoft JhengHei\n",
            "WARNING:matplotlib.font_manager:findfont: Generic family 'sans-serif' not found because none of the following families were found: Microsoft JhengHei\n",
            "WARNING:matplotlib.font_manager:findfont: Generic family 'sans-serif' not found because none of the following families were found: Microsoft JhengHei\n"
          ]
        },
        {
          "output_type": "display_data",
          "data": {
            "text/plain": [
              "<Figure size 640x480 with 1 Axes>"
            ],
            "image/png": "[encoded data removed]"
          },
          "metadata": {}
        }
      ],
      "source": [
        "plt.figure()\n",
        "plt.title('Relationship between Drink Capacity and Price')\n",
        "plt.xlabel('Capacity (ml')\n",
        "plt.ylabel('Price (NTD)')\n",
        "plt.plot(X_train, y_train, 'ko')\n",
        "plt.axis([0, 750, 0, 75]) # 圖表範圍\n",
        "plt.grid(True)\n",
        "plt.plot([0, 700], [5, 75], color='b', linestyle='-', linewidth=2) # 畫一條從(0,5)到(700,75)的藍線\n",
        "plt.plot([0, 650], [5, 75], color='g', linestyle='--', linewidth=2) # 畫一條從(0,5)到(650,75)的綠線\n",
        "plt.plot([-1, 700], [5, 70], color='r', linestyle='-.', linewidth=2) # 畫一條從(-1,5)到(700,70)的紅線\n",
        "plt.show()\n"
      ]
    },
    {
      "cell_type": "markdown",
      "source": [
        "我們沒辦法手動去畫出這條預測線，所以一定要用電腦自己去畫"
      ],
      "metadata": {
        "id": "uj6wAQAX86tg"
      }
    },
    {
      "cell_type": "markdown",
      "source": [
        "# 模型訓練方法（簡單線性迴歸）\n",
        "\n",
        "我們想找出一條能代表「飲料容量跟價格關係」的直線，公式是：\n",
        "\n",
        "價格(y) = 容量(x) × 斜率 + 截距\n",
        "\n",
        "- 怎麼找這條線？\n",
        "\n",
        "變異數：看容量的數據離平均有多遠。數字差很多 → 變異數大。\n",
        "\n",
        "共變異數：看容量變大時，價格有沒有也變大。\n",
        "\n",
        "- 怎麼算斜率和截距？\n",
        "\n",
        "斜率 = 共變異數 ÷ 變異數：每增加一點容量，價格多多少。\n",
        "\n",
        "截距 = 價格平均 − 斜率 × 容量平均\n",
        "\n",
        "這樣就能用容量預測價格囉！"
      ],
      "metadata": {
        "id": "6ynOfGuU3R_p"
      }
    },
    {
      "cell_type": "markdown",
      "source": [
        "## 手動訓練(比較麻煩)"
      ],
      "metadata": {
        "id": "YsH2GQQhJCZw"
      }
    },
    {
      "cell_type": "code",
      "source": [
        "import numpy as np\n",
        "\n",
        "# 設定飲料容量（ml）作為 X\n",
        "X = np.array([[300], [400], [500], [600], [700]]).reshape(-1, 1)\n",
        "\n",
        "# 計算容量的平均值（樣本平均）\n",
        "x_bar = X.mean()\n",
        "print(\"x_bar（容量平均）:\", x_bar)\n",
        "\n",
        "# 計算樣本變異數\n",
        "variance = ((X - x_bar)**2).sum() / (X.shape[0] - 1)\n",
        "print(\"variance（樣本變異數）:\", variance)\n",
        "\n",
        "# 設定對應的價格（NTD）\n",
        "y = np.array([35, 45, 55, 65, 70])\n",
        "\n",
        "# 計算價格的平均值\n",
        "y_bar = y.mean()\n",
        "\n",
        "# 計算 X 與 y 的共變異數（衡量兩變數的線性關係方向與強度）\n",
        "covariance = np.multiply((X - x_bar).transpose(), y - y_bar).sum() / (X.shape[0] - 1)\n",
        "print(\"covariance（共變異數）:\", covariance)\n",
        "\n",
        "# 計算斜率（beta）= 共變異數 / 變異數\n",
        "beta = covariance / variance\n",
        "print(\"beta（斜率）:\", beta)\n",
        "\n",
        "# 計算截距（alpha）= y 平均 - beta * x 平均\n",
        "alpha = y_bar - beta * x_bar\n",
        "print(\"alpha（截距）:\", alpha)\n",
        "\n",
        "# 預測 550ml 飲料的價格\n",
        "print('A 550ml drink should cost: $%.2f NTD' % (alpha + beta * 550))\n",
        "\n",
        "# 預測 700ml 飲料的價格\n",
        "print('A 700ml drink should cost: $%.2f NTD' % (alpha + beta * 700))\n"
      ],
      "metadata": {
        "colab": {
          "base_uri": "https://localhost:8080/"
        },
        "id": "TtBicd3P3UDE",
        "outputId": "ee17868d-5ea3-4e57-8c05-fc1867804907"
      },
      "execution_count": 44,
      "outputs": [
        {
          "output_type": "stream",
          "name": "stdout",
          "text": [
            "x_bar（容量平均）: 500.0\n",
            "variance（樣本變異數）: 25000.0\n",
            "covariance（共變異數）: 2250.0\n",
            "beta（斜率）: 0.09\n",
            "alpha（截距）: 9.0\n",
            "A 550ml drink should cost: $58.50 NTD\n",
            "A 700ml drink should cost: $72.00 NTD\n"
          ]
        }
      ]
    },
    {
      "cell_type": "markdown",
      "source": [
        "## 使用Sciket learn 簡化\n",
        "- 這邊教大家一個簡單的套件，sciken learn。專門用於機器學習和數據分析。它提供了一些高效的工具和算法，幫助開發者進行數據預處理、特徵選擇、模型訓練、預測、評估等工作。Scikit-learn 適用於各種機器學習任務，如分類、回歸、聚類、降維、特徵擴展、模型選擇和數據處理等。"
      ],
      "metadata": {
        "id": "nOh-3hAlF8LU"
      }
    },
    {
      "cell_type": "code",
      "source": [
        "from sklearn.linear_model import LinearRegression\n",
        "import numpy as np\n",
        "\n",
        "# 輸入現有飲料容量（ml）及價格資料\n",
        "X_train = np.array([300, 400, 500, 600, 700]).reshape(-1, 1)  # 容量（ml）\n",
        "y = [35, 45, 55, 65, 70]  # 價格（NTD）\n",
        "\n",
        "# 創建一個線性回歸模型\n",
        "model = LinearRegression()\n",
        "# 使用現有資料訓練模型\n",
        "model.fit(X_train, y)\n",
        "\n",
        "# 預測 550ml 飲料的價格\n",
        "test_drink = np.array([[550]])  # 預測的容量\n",
        "predicted_price = model.predict(test_drink)[0]\n",
        "print('A 550ml drink should cost: $%.2f NTD' % predicted_price)\n",
        "\n",
        "# 預測 700ml 飲料的價格\n",
        "test_drink = np.array([[700]])  # 預測的容量\n",
        "predicted_price = model.predict(test_drink)[0]\n",
        "print('A 700ml drink should cost: $%.2f NTD' % predicted_price)\n",
        "\n",
        "# 預測並計算剩餘誤差\n",
        "# print('Residual sum of squares: %.2f' % np.mean((model.predict(X_train) - y) ** 2))\n"
      ],
      "metadata": {
        "colab": {
          "base_uri": "https://localhost:8080/"
        },
        "id": "w9BGoyzAGBqj",
        "outputId": "6109a6a2-d21d-4293-faa4-cf312ab4b9b8"
      },
      "execution_count": 38,
      "outputs": [
        {
          "output_type": "stream",
          "name": "stdout",
          "text": [
            "A 550ml drink should cost: $58.50 NTD\n",
            "A 700ml drink should cost: $72.00 NTD\n"
          ]
        }
      ]
    },
    {
      "cell_type": "markdown",
      "source": [
        "# R-squared\n"
      ],
      "metadata": {
        "id": "E_B4MmrIOgD-"
      }
    },
    {
      "cell_type": "markdown",
      "source": [
        "## 手動計算(比較麻煩)\n",
        "在用手動計算R²決定係數的時候會需要先得SStot（總變異平方和）跟SSres（殘差平方和）才能計算，知道我們的回歸預測模型有沒有準，很麻煩。"
      ],
      "metadata": {
        "id": "L_dZu7-yJyyK"
      }
    },
    {
      "cell_type": "code",
      "source": [
        "import numpy as np\n",
        "from sklearn.linear_model import LinearRegression\n",
        "\n",
        "# 訓練資料：容量（ml）和價格（NTD）\n",
        "X_train = np.array([300, 400, 500, 600, 700]).reshape(-1, 1)\n",
        "y_train = [35, 45, 55, 65, 70]\n",
        "\n",
        "# 測試資料：容量（ml）和對應的實際價格（NTD）\n",
        "X_test = np.array([350, 450, 550, 650, 750]).reshape(-1, 1)\n",
        "y_test = [38, 48, 58, 68, 75]  # 測試資料的答案，可以和預測出來的結果比較，用於評估準確率\n",
        "\n",
        "# 建立並訓練模型\n",
        "model = LinearRegression()\n",
        "model.fit(X_train, y_train)\n",
        "\n",
        "# 預測測試集的 y 值\n",
        "y_pred = model.predict(X_test)\n",
        "\n",
        "# 計算 SStot（總變異平方和）\n",
        "y_mean = np.mean(y_test)\n",
        "SStot = np.sum((y_test - y_mean) ** 2)\n",
        "\n",
        "# 計算 SSres（殘差平方和）\n",
        "SSres = np.sum((y_test - y_pred) ** 2)\n",
        "\n",
        "# 計算 R-squared\n",
        "R_squared = 1 - (SSres / SStot)\n",
        "\n",
        "# 輸出結果\n",
        "print(\"SStot:\", SStot)\n",
        "print(\"SSres:\", SSres)\n",
        "print(\"R-squared:\", R_squared)\n",
        "\n",
        "\n"
      ],
      "metadata": {
        "colab": {
          "base_uri": "https://localhost:8080/"
        },
        "id": "jk_3d0tkGZd0",
        "outputId": "4b993119-c7b2-43ba-e742-0d03bfe50c46"
      },
      "execution_count": 41,
      "outputs": [
        {
          "output_type": "stream",
          "name": "stdout",
          "text": [
            "SStot: 887.2\n",
            "SSres: 11.250000000000036\n",
            "R-squared: 0.987319657348963\n"
          ]
        }
      ]
    },
    {
      "cell_type": "markdown",
      "source": [
        "## 使用函式快速計算"
      ],
      "metadata": {
        "id": "JwiFWRHWO6Ee"
      }
    },
    {
      "cell_type": "code",
      "source": [
        "import numpy as np\n",
        "from sklearn.linear_model import LinearRegression\n",
        "\n",
        "# 訓練資料：容量（ml）和價格（NTD）\n",
        "X_train = np.array([300, 400, 500, 600, 700]).reshape(-1, 1)\n",
        "y_train = [35, 45, 55, 65, 70]\n",
        "\n",
        "# 測試資料：容量（ml）和對應的實際價格（NTD）\n",
        "X_test = np.array([350, 450, 550, 650, 750]).reshape(-1, 1)\n",
        "y_test = [38, 48, 58, 68, 75]  # 測試資料的答案，可以和預測出來的結果比較，用於評估準確率\n",
        "\n",
        "# 建立並訓練模型\n",
        "model = LinearRegression()\n",
        "model.fit(X_train, y_train)\n",
        "\n",
        "# 計算訓練資料的 R-squared\n",
        "train_r_squared = model.score(X_train, y_train)\n",
        "print(\"Training R-squared:\", train_r_squared)\n",
        "\n",
        "# 計算測試資料的 R-squared\n",
        "test_r_squared = model.score(X_test, y_test)\n",
        "print(\"Testing R-squared:\", test_r_squared)\n",
        "\n"
      ],
      "metadata": {
        "colab": {
          "base_uri": "https://localhost:8080/"
        },
        "id": "1dWzkYDKO_BY",
        "outputId": "db40211f-25a1-4345-a44c-0be5edd85059"
      },
      "execution_count": 42,
      "outputs": [
        {
          "output_type": "stream",
          "name": "stdout",
          "text": [
            "Training R-squared: 0.9878048780487805\n",
            "Testing R-squared: 0.987319657348963\n"
          ]
        }
      ]
    }
  ],
  "metadata": {
    "kernelspec": {
      "display_name": "Python 3",
      "language": "python",
      "name": "python3"
    },
    "language_info": {
      "codemirror_mode": {
        "name": "ipython",
        "version": 3
      },
      "file_extension": ".py",
      "mimetype": "text/x-python",
      "name": "python",
      "nbconvert_exporter": "python",
      "pygments_lexer": "ipython3",
      "version": "3.5.2"
    },
    "colab": {
      "provenance": [],
      "toc_visible": true,
      "include_colab_link": true
    }
  },
  "nbformat": 4,
  "nbformat_minor": 0
}