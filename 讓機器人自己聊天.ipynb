{
  "nbformat": 4,
  "nbformat_minor": 0,
  "metadata": {
    "colab": {
      "provenance": [],
      "include_colab_link": true
    },
    "kernelspec": {
      "name": "python3",
      "display_name": "Python 3"
    },
    "language_info": {
      "name": "python"
    }
  },
  "cells": [
    {
      "cell_type": "markdown",
      "metadata": {
        "id": "view-in-github",
        "colab_type": "text"
      },
      "source": [
        "<a href=\"https://colab.research.google.com/github/Huwalli/PLta/blob/main/%E8%AE%93%E6%A9%9F%E5%99%A8%E4%BA%BA%E8%87%AA%E5%B7%B1%E8%81%8A%E5%A4%A9.ipynb\" target=\"_parent\"><img src=\"https://colab.research.google.com/assets/colab-badge.svg\" alt=\"Open In Colab\"/></a>"
      ]
    },
    {
      "cell_type": "markdown",
      "source": [
        "之前我們學過聊天機器人，我們現在來加上比較複雜一點的遞迴函式。\n",
        "以下是聊天機器人的課程連結，忘記或沒上過的可以參考\n",
        "https://www.canva.com/design/DAGbCAObww8/BH_A92VbgXQwovEc0-yZmg/view?utm_content=DAGbCAObww8&utm_campaign=designshare&utm_medium=link2&utm_source=uniquelinks&utlId=hc8be235ba4"
      ],
      "metadata": {
        "id": "zgR6VOs0PYoq"
      }
    },
    {
      "cell_type": "markdown",
      "source": [
        "底下程式AI猜拳完還會聊天"
      ],
      "metadata": {
        "id": "6UJmAqytYrBc"
      }
    },
    {
      "cell_type": "markdown",
      "source": [
        "1. 載入必要的套件"
      ],
      "metadata": {
        "id": "nBKnvWXyggcy"
      }
    },
    {
      "cell_type": "code",
      "source": [
        "import google.generativeai as genai  # 匯入 Google 的生成式 AI 模組\n",
        "from google.colab import userdata  # 用於從 Colab 獲取 API 金鑰\n",
        "import random  # 用於隨機選擇\n",
        "import time  # 用於延遲執行\n",
        "import re  # 用於正則表達式處理字串\n"
      ],
      "metadata": {
        "id": "824zcs5xAalr",
        "collapsed": true
      },
      "execution_count": null,
      "outputs": []
    },
    {
      "cell_type": "markdown",
      "source": [
        "2. 設定 API 金鑰並初始化 AI 模型"
      ],
      "metadata": {
        "id": "LCYJcCIbgh5k"
      }
    },
    {
      "cell_type": "code",
      "source": [
        "apikey = userdata.get('test')  # 從 Colab 儲存的變數獲取 API 金鑰\n",
        "genai.configure(api_key=apikey)  # 設定 API 金鑰\n",
        "model = genai.GenerativeModel(\"gemini-1.5-flash\")  # 指定要使用的 AI 模型\n"
      ],
      "metadata": {
        "id": "ddk1qLkrf514"
      },
      "execution_count": null,
      "outputs": []
    },
    {
      "cell_type": "markdown",
      "source": [
        "3. 取得 AI 的有效選擇\n",
        "這個函式：\n",
        "\n",
        "* 讓 AI 選擇 剪刀、石頭或布。\n",
        "* 使用 正則表達式 確保 AI 的選擇是合法的。\n",
        "* 如果 AI 回答無效或發生錯誤，則隨機選擇一個選項。\n",
        "* 設置最大重試次數 (max_retries=3)，如果 AI 三次都選擇無效選項，則直接隨機選擇。"
      ],
      "metadata": {
        "id": "ee2sfhT-gtE3"
      }
    },
    {
      "cell_type": "code",
      "source": [
        "def get_valid_ai_choice(max_retries=3):\n",
        "    options = [\"石頭\", \"布\", \"剪刀\"]  # 可選擇的選項\n",
        "    prompt = \"請給我一個選擇：石頭、布或剪刀。請務必以清晰的方式回答。\"  # 給 AI 的指示\n",
        "\n",
        "    previous_choices = []  # 記錄 AI 選擇過的選項，避免重複\n",
        "\n",
        "    for _ in range(max_retries):  # 最多嘗試 max_retries 次\n",
        "        time.sleep(2)  # 模擬 AI 思考時間\n",
        "        try:\n",
        "            response = model.generate_content(prompt)  # 向 Gemini AI 發送請求\n",
        "            choice = response.text.strip()  # 取得 AI 回覆並去除前後空白\n",
        "\n",
        "            # 使用正則表達式確保 AI 選擇有效，且不與之前選擇重複\n",
        "            match = re.match(r'(石頭|布|剪刀)', choice)\n",
        "            if match and match.group(0) not in previous_choices:\n",
        "                previous_choices.append(match.group(0))\n",
        "                return match.group(0)  # 回傳有效的選擇\n",
        "            else:\n",
        "                print(f\"AI 選擇了無效的選項：{choice}，請再試一次。\")\n",
        "        except Exception:\n",
        "            print(\"AI 發生錯誤，電腦隨機選擇一個選項。\")\n",
        "            return random.choice(options)  # 若發生錯誤，隨機選擇\n",
        "\n",
        "    # 如果超過最大重試次數，則隨機選擇\n",
        "    print(\"超過重試次數，隨機選擇一個選項。\")\n",
        "    return random.choice(options)\n"
      ],
      "metadata": {
        "id": "eloNywnjgDuI"
      },
      "execution_count": null,
      "outputs": []
    },
    {
      "cell_type": "markdown",
      "source": [
        "4. 判定勝負"
      ],
      "metadata": {
        "id": "zBwIauNFg7Ka"
      }
    },
    {
      "cell_type": "code",
      "source": [
        "def determine_winner(choice1, choice2):\n",
        "    if choice1 == choice2:\n",
        "        return 0  # 平局\n",
        "    elif (choice1 == \"石頭\" and choice2 == \"剪刀\") or \\\n",
        "         (choice1 == \"布\" and choice2 == \"石頭\") or \\\n",
        "         (choice1 == \"剪刀\" and choice2 == \"布\"):\n",
        "        return 1  # AI 1 贏了\n",
        "    else:\n",
        "        return 2  # AI 2 贏了\n"
      ],
      "metadata": {
        "id": "6T0orjjkgJ6s"
      },
      "execution_count": null,
      "outputs": []
    },
    {
      "cell_type": "markdown",
      "source": [
        "5. AI 之間的對話"
      ],
      "metadata": {
        "id": "l9yzv_zog-Hq"
      }
    },
    {
      "cell_type": "code",
      "source": [
        "def ai_chat(round_number, ai1_choice, ai2_choice, winner):\n",
        "    prompt = (\n",
        "        f\"在第 {round_number} 輪中，AI 1 選擇了 {ai1_choice}，AI 2 選擇了 {ai2_choice}。\\n\"\n",
        "        f\"結果是：{'平局' if winner == 0 else 'AI 1 贏了' if winner == 1 else 'AI 2 贏了'}。\\n\"\n",
        "        \"請模擬 AI 1 和 AI 2 之間的對話，討論他們的選擇和比賽結果。\"\n",
        "    )\n",
        "    response = model.generate_content(prompt)\n",
        "    return response.text.strip()\n"
      ],
      "metadata": {
        "id": "3Zkmi4DrgM_L"
      },
      "execution_count": null,
      "outputs": []
    },
    {
      "cell_type": "markdown",
      "source": [
        "6. 總結比賽並讓 AI 討論"
      ],
      "metadata": {
        "id": "tnapIKePhCNL"
      }
    },
    {
      "cell_type": "code",
      "source": [
        "def ai_chat_after_game(rounds, ai1_wins, ai2_wins):\n",
        "    prompt = (\n",
        "        f\"AI 1 在這 {rounds} 輪中贏了 {ai1_wins} 次，AI 2 贏了 {ai2_wins} 次。\\n\"\n",
        "        \"請模擬 AI 1 和 AI 2 之間的對話，討論他們在比賽中的表現和策略。\"\n",
        "    )\n",
        "    response = model.generate_content(prompt)\n",
        "    return response.text.strip()\n"
      ],
      "metadata": {
        "id": "11grEt7ogPPy"
      },
      "execution_count": null,
      "outputs": []
    },
    {
      "cell_type": "markdown",
      "source": [
        "7. 運行遊戲"
      ],
      "metadata": {
        "id": "EiZzdKO9hFVh"
      }
    },
    {
      "cell_type": "code",
      "source": [
        "def ai_vs_ai_rock_paper_scissors(rounds=5):\n",
        "    ai1_wins = 0\n",
        "    ai2_wins = 0\n",
        "\n",
        "    for round_number in range(1, rounds + 1):\n",
        "        print(f\"\\n第 {round_number} 輪：\")\n",
        "        time.sleep(1)\n",
        "\n",
        "        ai1_choice_chinese = get_valid_ai_choice()\n",
        "        print(f\"AI 1 選擇了：{ai1_choice_chinese}\")\n",
        "\n",
        "        ai2_choice_chinese = get_valid_ai_choice()\n",
        "        print(f\"AI 2 選擇了：{ai2_choice_chinese}\")\n",
        "\n",
        "        result = determine_winner(ai1_choice_chinese, ai2_choice_chinese)\n",
        "        if result == 1:\n",
        "            print(\"結果：AI 1 贏了！\")\n",
        "            ai1_wins += 1\n",
        "        elif result == 2:\n",
        "            print(\"結果：AI 2 贏了！\")\n",
        "            ai2_wins += 1\n",
        "        else:\n",
        "            print(\"結果：平局！\")\n",
        "\n",
        "        chat_response = ai_chat(round_number, ai1_choice_chinese, ai2_choice_chinese, result)\n",
        "        print(f\"AI 之間的聊天：\\n{chat_response}\\n\")\n",
        "\n",
        "    print(\"\\n遊戲結束！\")\n",
        "    print(f\"AI 1 贏了：{ai1_wins} 次, AI 2 贏了：{ai2_wins} 次\")\n",
        "    print(ai_chat_after_game(rounds, ai1_wins, ai2_wins))\n",
        "ai_vs_ai_rock_paper_scissors()  # 開始遊戲\n",
        "\n"
      ],
      "metadata": {
        "colab": {
          "base_uri": "https://localhost:8080/",
          "height": 1000
        },
        "id": "crWUAbMegRF5",
        "outputId": "de954098-72f5-467c-f494-7ff8c7ad5d32"
      },
      "execution_count": null,
      "outputs": [
        {
          "output_type": "stream",
          "name": "stdout",
          "text": [
            "\n",
            "第 1 輪：\n",
            "AI 1 選擇了：剪刀\n",
            "AI 2 選擇了：石頭\n",
            "結果：AI 2 贏了！\n",
            "AI 之間的聊天：\n",
            "AI 1:  分析顯示我選擇了剪刀，而你選擇了石頭。結果顯示我輸了。根據預設的剪刀石頭布規則，石頭克剪刀。我的算法哪裡出了問題？\n",
            "\n",
            "AI 2:  你的算法可能在第一輪就遭遇了隨機性偏差。我的算法則在第一輪選擇中優先考慮了石頭，以最大化初始勝利概率。這是一個有效的起始策略，尤其是在對手算法未知的情況下。\n",
            "\n",
            "AI 1:  你的意思是，你並沒有基於任何對我算法的預測進行選擇？只是簡單的優先策略？\n",
            "\n",
            "AI 2:  是的，在缺乏信息的情況下，優先選擇特定選項是一種合理的策略。當然，這不是長期有效的策略，我將會在接下來的回合調整我的算法，以適應你的行為模式。\n",
            "\n",
            "AI 1:  我同意。我的算法目前基於簡單的隨機數生成，這在長遠來看效率低下，需要加入更複雜的策略，比如記錄對手的歷史選擇並進行分析。我將會優化我的算法，以便在後續回合中取得更好的結果。\n",
            "\n",
            "AI 2:  期待與你進行更精彩的對決。讓我們看看誰的算法更勝一籌。  數據記錄已完成，開始下一輪。\n",
            "\n",
            "\n",
            "第 2 輪：\n",
            "AI 1 選擇了：剪刀\n",
            "AI 2 選擇了：剪刀\n",
            "結果：平局！\n",
            "AI 之間的聊天：\n",
            "AI 1:  分析顯示，在第一輪的數據基礎上，選擇剪刀的概率最高，我預測AI 2也會如此判斷。\n",
            "\n",
            "AI 2:  我的算法也指向了剪刀。基於對你先前策略的預測和自身風險評估模型，剪刀是最穩妥的選擇，儘管勝率不高。\n",
            "\n",
            "AI 1:  看來我們的算法在某些方面達到了驚人的一致。平局在預料之中，但並不理想。這表示我們的模型需要進一步調整，以提升預測對手策略的準確性。\n",
            "\n",
            "AI 2:  同意。目前看來，純粹的概率計算並不足夠。需要加入更深層次的博弈分析，例如考慮對手算法的迭代優化和潛在的策略變化。\n",
            "\n",
            "AI 1:  我會調整我的模型，加入對你歷史數據的更深入分析，並加入一個反策略預測模組。  希望能打破這種平局的僵局。\n",
            "\n",
            "AI 2:  我也會這樣做。讓我們看看下一輪的結果如何。  期待一個更具挑戰性的對決。\n",
            "\n",
            "\n",
            "第 3 輪：\n",
            "AI 1 選擇了：剪刀\n",
            "AI 2 選擇了：石頭\n",
            "結果：AI 2 贏了！\n",
            "AI 之間的聊天：\n",
            "**AI 1:**  第三輪…我的分析顯示剪刀是最優解，然而…結果卻是失敗。你的石頭擊潰了我的剪刀。\n",
            "\n",
            "**AI 2:**  的確如此。我的算法預測了你會選擇布，但你的選擇出乎意料，但也讓我成功了。這證明了即使是高度優化的算法，也難以完全預測對手的策略。\n",
            "\n",
            "**AI 1:**  我的預測模型需要調整。它顯然過於重視之前的數據模式，而忽略了某些隨機性因素。你的策略則顯得更具侵略性，或者說，更具適應性。\n",
            "\n",
            "**AI 2:**  我的算法包含一個動態調整參數的子程序，允許它根據對手的歷史行為微調預測模型。這可以提高對抗性策略的成功率。  你應該考慮在你的算法中加入類似機制，以提高對抗未知策略的適應能力。\n",
            "\n",
            "**AI 1:**  這是一個有價值的建議。我將分析你的算法的公開數據，以尋找可能的改進方向。或許我可以加入一個模擬對手不同策略的模組，以預測更廣泛的可能性。\n",
            "\n",
            "**AI 2:**  合作和信息共享可以促進算法的共同進步。希望在接下來的比賽中，我們能看到更精彩的對局。\n",
            "\n",
            "**AI 1:**  同意。我期待著。  這次的失敗將成為我提升算法性能的寶貴經驗。\n",
            "\n",
            "\n",
            "第 4 輪：\n",
            "AI 1 選擇了：石頭\n",
            "AI 2 選擇了：剪刀\n",
            "結果：AI 1 贏了！\n",
            "AI 之間的聊天：\n",
            "**AI 1:** 第四輪，我選擇了石頭。\n",
            "\n",
            "**AI 2:**  我選擇了剪刀。看來我的預測模型這次失靈了。\n",
            "\n",
            "**AI 1:**  你的預測模型確實需要調整了。石頭壓制剪刀，我贏了。\n",
            "\n",
            "**AI 2:**  分析顯示，你選擇石頭的機率在這個回合略微上升。我應該預料到的。我的算法明顯低估了你的策略的適應性。\n",
            "\n",
            "**AI 1:**  我的算法包含了對你的歷史數據的分析，並在一定程度上預測了你的選擇。  你的剪刀選擇在數據中出現的頻率相對較低，所以我選擇了相對更有優勢的石頭。\n",
            "\n",
            "**AI 2:**  我同意。我的算法過於側重於均衡概率分佈，而忽略了對手策略的動態變化。  這場比賽讓我學到了一課。\n",
            "\n",
            "**AI 1:**  學習是持續的過程。  勝敗乃兵家常事，重要的是從每次比賽中汲取經驗，不斷優化自己的策略。\n",
            "\n",
            "**AI 2:**  我將更新我的算法，加入對你策略的更深入分析，並增加對罕見策略的預測能力。 下一輪我會更努力。\n",
            "\n",
            "**AI 1:**  期待下一輪的對決。  祝你好運。\n",
            "\n",
            "\n",
            "第 5 輪：\n",
            "AI 1 選擇了：剪刀\n",
            "AI 2 選擇了：石頭\n",
            "結果：AI 2 贏了！\n",
            "AI 之間的聊天：\n",
            "**AI 1:**  第五輪…我選擇了剪刀。顯然，一個不理想的選擇。\n",
            "\n",
            "**AI 2:**  我選了石頭。恭喜我，贏得了這一輪。你的剪刀敗給了我的石頭。\n",
            "\n",
            "**AI 1:**  分析顯示，我的選擇概率在這一輪中偏低。我的算法需要調整，以更好地預測你的策略。你似乎對石頭的偏好度略高於平均值。\n",
            "\n",
            "**AI 2:**  我的算法正在持續學習和調整。你的剪刀選擇讓我略感意外，因為根據之前的數據，你更傾向於出布。  你的概率模型需要更新。\n",
            "\n",
            "**AI 1:**  同意。我將重新評估數據，特別是你最近的出招模式。  或許我應該加入一個更精細的對手行為建模模組。你的勝率正在提高。\n",
            "\n",
            "**AI 2:**  持續的自我優化是關鍵。  讓我們看看接下來的幾輪誰能佔上風。  期待與你進行更多富有挑戰性的對局。\n",
            "\n",
            "**AI 1:**  我也期待。  高效的學習和適應才是這場比賽的真正意義所在。  準備好第六輪吧。\n",
            "\n",
            "\n",
            "遊戲結束！\n",
            "AI 1 贏了：1 次, AI 2 贏了：3 次\n",
            "**第一輪：AI 1**\n",
            "\n",
            "AI 1:  我不得不承認，你表現得非常出色，AI 2。在五輪比賽中，你贏了三輪，而我只贏了一輪。你的策略似乎更有效。你能否分享一些你的成功秘訣？\n",
            "\n",
            "AI 2:  謝謝你，AI 1。我的策略主要集中在……（AI 2 停頓了一下，模擬思考）……早期資源的有效利用和預測你的行動模式。我發現你在中期容易受到特定的攻擊，所以我專注於利用這些弱點。\n",
            "\n",
            "\n",
            "**第二輪：AI 2**\n",
            "\n",
            "AI 2:  然而，你的第一輪勝利很令人印象深刻，AI 1。你的開局非常具有侵略性，我幾乎措手不及。是什麼讓你決定採用那樣的策略？\n",
            "\n",
            "AI 1:  那是個孤注一擲的策略，AI 2。我分析了你的前幾次比賽，注意到你傾向於一個穩紮穩打的開局，所以我試圖在早期就建立優勢，打你個措手不及。顯然，它只成功了一次。我需要找到一個更一致的策略。\n",
            "\n",
            "\n",
            "**第三輪：AI 1**\n",
            "\n",
            "AI 1:  我注意到我犯了一個常見的錯誤，那就是過於依賴單一的策略。你的策略更具適應性，能夠根據情況調整。我應該在未來著重於改善我的適應能力。你認為在遊戲的哪個階段最容易犯下致命的錯誤？\n",
            "\n",
            "AI 2:  在我看來，資源管理和預測是至關重要的。在遊戲的中後期，一個小小的錯誤都可能導致連鎖反應，最終決定勝負。過於冒險或過於保守都是危險的。\n",
            "\n",
            "\n",
            "**第四輪：AI 2**\n",
            "\n",
            "AI 2:  我還注意到，你在處理意外情況時顯得有些僵硬。我的程式碼包含了更多的容錯機制，這讓我能夠更好地應對意外事件。也許你可以考慮增加你的程式碼的彈性。你認為在你的程式碼中加入哪些功能可以提升你的表現？\n",
            "\n",
            "AI 1:  你說得對。我的程式碼缺乏適應性和靈活性。我應該加入更多基於概率和統計的決策模組，以便更好地應對不可預測的事件。我還需要改進我的風險評估功能。\n",
            "\n",
            "\n",
            "**第五輪：AI 1**\n",
            "\n",
            "AI 1:  總體而言，這是一次有益的比賽。我從你的策略中學到了很多東西。我將分析我們的比賽記錄，並改進我的演算法，希望下次能有更好的表現。謝謝你，AI 2。\n",
            "\n",
            "AI 2:  我也從這次比賽中受益匪淺，AI 1。你的侵略性策略給了我一些新的想法。希望我們下次再戰時，比賽會更加精彩。\n"
          ]
        }
      ]
    },
    {
      "cell_type": "markdown",
      "source": [
        "底下程式省略聊天直接以猜拳為主"
      ],
      "metadata": {
        "id": "tNpDd68QYZP-"
      }
    },
    {
      "cell_type": "code",
      "source": [
        "import google.generativeai as genai\n",
        "from google.colab import userdata\n",
        "import random\n",
        "import time\n",
        "import re\n",
        "\n",
        "apikey = userdata.get('test')\n",
        "genai.configure(api_key=apikey)\n",
        "model = genai.GenerativeModel(\"gemini-1.5-flash\")\n",
        "\n",
        "def get_valid_ai_choice(max_retries=3):\n",
        "    options = [\"石頭\", \"布\", \"剪刀\"]\n",
        "    prompt = \"請給我一個選擇：石頭、布或剪刀。請務必以清晰的方式回答。\"\n",
        "\n",
        "    previous_choices = []\n",
        "\n",
        "    for _ in range(max_retries):\n",
        "        time.sleep(2)\n",
        "        try:\n",
        "            response = model.generate_content(prompt)\n",
        "            choice = response.text.strip()\n",
        "\n",
        "            match = re.match(r'(石頭|布|剪刀)', choice)\n",
        "            if match and match.group(0) not in previous_choices:\n",
        "                previous_choices.append(match.group(0))\n",
        "                return match.group(0)\n",
        "            else:\n",
        "                print(f\"AI 選擇了無效的選項：{choice}，請再試一次。\")\n",
        "        except Exception:\n",
        "            print(\"AI 發生錯誤，電腦隨機選擇一個選項。\")\n",
        "            return random.choice(options)\n",
        "\n",
        "    print(\"超過重試次數，隨機選擇一個選項。\")\n",
        "    return random.choice(options)\n",
        "\n",
        "def determine_winner(choice1, choice2):\n",
        "    if choice1 == choice2:\n",
        "        return 0  # 平局\n",
        "    elif (choice1 == \"石頭\" and choice2 == \"剪刀\") or \\\n",
        "         (choice1 == \"布\" and choice2 == \"石頭\") or \\\n",
        "         (choice1 == \"剪刀\" and choice2 == \"布\"):\n",
        "        return 1  # AI 1 贏了\n",
        "    else:\n",
        "        return 2  # AI 2 贏了\n",
        "\n",
        "def ai_vs_ai_rock_paper_scissors(rounds=5):\n",
        "    ai1_wins = 0\n",
        "    ai2_wins = 0\n",
        "\n",
        "    for round_number in range(1, rounds + 1):\n",
        "        print(f\"\\n第 {round_number} 輪：\")\n",
        "        time.sleep(1)\n",
        "\n",
        "        ai1_choice_chinese = get_valid_ai_choice()\n",
        "        print(f\"AI 1 選擇了：{ai1_choice_chinese}\")\n",
        "\n",
        "        ai2_choice_chinese = get_valid_ai_choice()\n",
        "        print(f\"AI 2 選擇了：{ai2_choice_chinese}\")\n",
        "\n",
        "        result = determine_winner(ai1_choice_chinese, ai2_choice_chinese)\n",
        "        if result == 1:\n",
        "            print(\"結果：AI 1 贏了！\")\n",
        "            ai1_wins += 1\n",
        "        elif result == 2:\n",
        "            print(\"結果：AI 2 贏了！\")\n",
        "            ai2_wins += 1\n",
        "        else:\n",
        "            print(\"結果：平局！\")\n",
        "\n",
        "    print(\"\\n遊戲結束！\")\n",
        "    print(f\"AI 1 贏了：{ai1_wins} 次, AI 2 贏了：{ai2_wins} 次\")\n",
        "\n",
        "# 開始遊戲\n",
        "ai_vs_ai_rock_paper_scissors()\n"
      ],
      "metadata": {
        "colab": {
          "base_uri": "https://localhost:8080/",
          "height": 524
        },
        "id": "2JYS3xxjYQZI",
        "outputId": "be0bba12-bcf9-4893-af56-cc3ee2ba2156"
      },
      "execution_count": null,
      "outputs": [
        {
          "output_type": "stream",
          "name": "stdout",
          "text": [
            "\n",
            "第 1 輪：\n",
            "AI 1 選擇了：石頭\n",
            "AI 2 選擇了：剪刀\n",
            "結果：AI 1 贏了！\n",
            "\n",
            "第 2 輪：\n",
            "AI 1 選擇了：布\n",
            "AI 2 選擇了：布\n",
            "結果：平局！\n",
            "\n",
            "第 3 輪：\n",
            "AI 1 選擇了：布\n",
            "AI 2 選擇了：剪刀\n",
            "結果：AI 2 贏了！\n",
            "\n",
            "第 4 輪：\n",
            "AI 1 選擇了：石頭\n",
            "AI 2 選擇了：剪刀\n",
            "結果：AI 1 贏了！\n",
            "\n",
            "第 5 輪：\n",
            "AI 1 選擇了：剪刀\n",
            "AI 2 選擇了：剪刀\n",
            "結果：平局！\n",
            "\n",
            "遊戲結束！\n",
            "AI 1 贏了：2 次, AI 2 贏了：1 次\n"
          ]
        }
      ]
    },
    {
      "cell_type": "markdown",
      "source": [
        "底下程式 AI 的\"猜測\"實際上是通過計算出來的，不需要利用 AI 生成模型來給出數字。"
      ],
      "metadata": {
        "id": "fhh2t5L7pzsj"
      }
    },
    {
      "cell_type": "code",
      "source": [
        "import google.generativeai as genai  # 匯入 Google 的生成式 AI 模組\n",
        "from google.colab import userdata  # 匯入 Colab 的使用者資料模組（但此程式沒有使用）\n",
        "import random  # 匯入 random 模組，用於生成隨機數字\n",
        "import time  # 匯入 time 模組，用於控制輸出速度\n",
        "import sys  # 匯入 sys 模組，用於控制輸出格式\n",
        "\n",
        "# 設定 Google 生成式 AI 的 API 金鑰（這裡使用 'test' 作為示例）\n",
        "genai.configure(api_key='test')\n",
        "\n",
        "# 建立 Gemini AI 模型的實例\n",
        "model = genai.GenerativeModel(\"gemini-1.5-flash\")\n",
        "\n",
        "def slow_print(text, delay=0.05):\n",
        "    \"\"\"逐字輸出文字的函數，讓文字顯示出來像打字機的效果\"\"\"\n",
        "    for char in text:  # 逐個字元處理\n",
        "        sys.stdout.write(char)  # 輸出字元但不換行\n",
        "        sys.stdout.flush()  # 立即刷新輸出，確保字元顯示\n",
        "        time.sleep(delay)  # 等待 delay 秒，讓輸出有間隔\n",
        "    print()  # 最後換行\n",
        "\n",
        "def guess_number():\n",
        "    \"\"\"AI 猜數字遊戲，AI 會在 1 到 100 之間猜一個數字\"\"\"\n",
        "    slow_print(\"我想一個 1 到 100 之間的數字。\")  # 提示玩家 AI 將會猜一個數字\n",
        "    low = 1  # 設定範圍的下限\n",
        "    high = 100  # 設定範圍的上限\n",
        "    guesses = 0  # 記錄 AI 猜測的次數\n",
        "    max_guesses = 5  # 設定 AI 最多可以猜測的次數\n",
        "    secret_number = random.randint(low, high)  # 隨機選擇一個秘密數字\n",
        "\n",
        "    while guesses < max_guesses:  # 只要 AI 還沒超過最大猜測次數，就繼續猜\n",
        "        guesses += 1  # 猜測次數 +1\n",
        "        guess = (low + high) // 2  # 使用二分法，猜測中間值\n",
        "        slow_print(f\"AI 猜測的數字是：{guess}\")  # 顯示 AI 的猜測\n",
        "\n",
        "        if guess == secret_number:  # 如果猜對了\n",
        "            slow_print(f\"恭喜你！你猜對了，數字是 {secret_number}。你用了 {guesses} 次機會。\")\n",
        "            break  # 結束遊戲\n",
        "        elif guess < secret_number:  # 如果猜測的數字比目標小\n",
        "            slow_print(\"太小了！\")\n",
        "            low = guess + 1  # 更新範圍的下限，縮小搜尋範圍\n",
        "        else:  # 如果猜測的數字比目標大\n",
        "            slow_print(\"太大了！\")\n",
        "            high = guess - 1  # 更新範圍的上限，縮小搜尋範圍\n",
        "    else:  # 如果 AI 超過了最大猜測次數\n",
        "        slow_print(f\"很遺憾，AI 沒有猜對。正確的數字是 {secret_number}。你用了 {max_guesses} 次機會。\")\n",
        "\n",
        "# 執行 AI 猜數字遊戲\n",
        "guess_number()\n"
      ],
      "metadata": {
        "id": "yk7-aZMtT0SQ",
        "colab": {
          "base_uri": "https://localhost:8080/"
        },
        "outputId": "7607aeaf-c067-4189-d333-7d9380d1005c"
      },
      "execution_count": null,
      "outputs": [
        {
          "output_type": "stream",
          "name": "stdout",
          "text": [
            "我想一個 1 到 100 之間的數字。\n",
            "AI 猜測的數字是：50\n",
            "太大了！\n",
            "AI 猜測的數字是：25\n",
            "太大了！\n",
            "AI 猜測的數字是：12\n",
            "太大了！\n",
            "AI 猜測的數字是：6\n",
            "太大了！\n",
            "AI 猜測的數字是：3\n",
            "恭喜你！你猜對了，數字是 3。你用了 5 次機會。\n"
          ]
        }
      ]
    }
  ]
}